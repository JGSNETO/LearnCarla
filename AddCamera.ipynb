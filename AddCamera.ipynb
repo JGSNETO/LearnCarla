{
 "cells": [
  {
   "cell_type": "code",
   "execution_count": 10,
   "id": "c270c299-f175-4677-b9f0-13ad43cbb40d",
   "metadata": {},
   "outputs": [],
   "source": [
    "import carla\n",
    "import time\n",
    "import cv2\n",
    "import numpy as np\n",
    "import math\n",
    "import sys"
   ]
  },
  {
   "cell_type": "code",
   "execution_count": 11,
   "id": "f5ad65cf-631e-4c40-aedc-811ada852d28",
   "metadata": {},
   "outputs": [],
   "source": [
    "# Connect to the sim\n",
    "client = carla.Client('localhost', 2000)"
   ]
  },
  {
   "cell_type": "code",
   "execution_count": 26,
   "id": "02ee4341-299b-4a92-8d33-d607cb32b3f5",
   "metadata": {},
   "outputs": [],
   "source": [
    "#define environment/world and get possible places to spawn a car\n",
    "# start a car\n",
    "world = client.get_world()\n",
    "spawn_points = world.get_map().get_spawn_points()\n",
    "#look for a blueprint of Mini car\n",
    "vehicle_bp = world.get_blueprint_library().filter('*mini*')\n",
    "\n",
    "start_point = spawn_points[0]\n",
    "vehicle = world.try_spawn_actor(vehicle_bp[0], start_point)\n",
    "#setting RGB Camera - this follow the approach explained in a Carla video\n",
    "# link: https://www.youtube.com/watch?v=om8klsBj4rc&t=1184s\n",
    "\n",
    "#camera mount offset on the car - you can tweak these to have the car in view or not\n",
    "CAMERA_POS_Z = 3 \n",
    "CAMERA_POS_X = -5 \n",
    "\n",
    "camera_bp = world.get_blueprint_library().find('sensor.camera.rgb')\n",
    "camera_bp.set_attribute('image_size_x', '640') # this ratio works in CARLA 9.14 on Windows\n",
    "camera_bp.set_attribute('image_size_y', '360')\n",
    "\n",
    "camera_init_trans = carla.Transform(carla.Location(z=CAMERA_POS_Z,x=CAMERA_POS_X))\n",
    "#this creates the camera in the sim\n",
    "camera = world.spawn_actor(camera_bp,camera_init_trans,attach_to=vehicle)\n",
    "\n",
    "def camera_callback(image,data_dict):\n",
    "    data_dict['image'] = np.reshape(np.copy(image.raw_data),(image.height,image.width,4))\n",
    "\n",
    "image_w = camera_bp.get_attribute('image_size_x').as_int()\n",
    "image_h = camera_bp.get_attribute('image_size_y').as_int()\n",
    "\n",
    "camera_data = {'image': np.zeros((image_h,image_w,4))}\n",
    "# this actually opens a live stream from the camera\n",
    "camera.listen(lambda image: camera_callback(image,camera_data))"
   ]
  },
  {
   "cell_type": "code",
   "execution_count": null,
   "id": "26b1a35b-2e2b-4930-866e-7b822cc714bf",
   "metadata": {},
   "outputs": [],
   "source": []
  },
  {
   "cell_type": "code",
   "execution_count": 27,
   "id": "92c282af-87c3-4442-9dd1-619c357a657c",
   "metadata": {},
   "outputs": [],
   "source": [
    "''' \n",
    "This is the new Bit for tutorial 4\n",
    "First we need to create controls functions so we could\n",
    "push the car along the route\n",
    "'''\n",
    "# define speed contstants\n",
    "PREFERRED_SPEED = 30 # what it says\n",
    "SPEED_THRESHOLD = 2 #defines when we get close to desired speed so we drop the\n",
    "\n",
    "#adding params to display text to image\n",
    "font = cv2.FONT_HERSHEY_SIMPLEX\n",
    "# org - defining lines to display telemetry values on the screen\n",
    "org = (30, 30) # this line will be used to show current speed\n",
    "org2 = (30, 50) # this line will be used for future steering angle\n",
    "org3 = (30, 70) # and another line for future telemetry outputs\n",
    "org4 = (30, 90) # and another line for future telemetry outputs\n",
    "org3 = (30, 110) # and another line for future telemetry outputs\n",
    "fontScale = 0.5\n",
    "# white color\n",
    "color = (255, 255, 255)\n",
    "# Line thickness of 2 px\n",
    "thickness = 1\n",
    "\n",
    "def maintain_speed(s):\n",
    "    ''' \n",
    "    this is a very simple function to maintan desired speed\n",
    "    s arg is actual current speed\n",
    "    '''\n",
    "    if s >= PREFERRED_SPEED:\n",
    "        return 0\n",
    "    elif s < PREFERRED_SPEED - SPEED_THRESHOLD:\n",
    "        return 0.8 # think of it as % of \"full gas\"\n",
    "    else:\n",
    "        return 0.4 # tweak this if the car is way over or under preferred speed "
   ]
  },
  {
   "cell_type": "code",
   "execution_count": 28,
   "id": "cb950697-2609-4e63-9b64-39612a915cac",
   "metadata": {},
   "outputs": [
    {
     "ename": "AttributeError",
     "evalue": "'NoneType' object has no attribute 'get_velocity'",
     "output_type": "error",
     "traceback": [
      "\u001b[1;31m---------------------------------------------------------------------------\u001b[0m",
      "\u001b[1;31mAttributeError\u001b[0m                            Traceback (most recent call last)",
      "Cell \u001b[1;32mIn[28], line 22\u001b[0m\n\u001b[0;32m     20\u001b[0m steering_angle \u001b[38;5;241m=\u001b[39m \u001b[38;5;241m0\u001b[39m \u001b[38;5;66;03m# we do not have it yet\u001b[39;00m\n\u001b[0;32m     21\u001b[0m \u001b[38;5;66;03m# to get speed we need to use 'get velocity' function\u001b[39;00m\n\u001b[1;32m---> 22\u001b[0m v \u001b[38;5;241m=\u001b[39m \u001b[43mvehicle\u001b[49m\u001b[38;5;241;43m.\u001b[39;49m\u001b[43mget_velocity\u001b[49m()\n\u001b[0;32m     23\u001b[0m \u001b[38;5;66;03m# if velocity is a vector in 3d\u001b[39;00m\n\u001b[0;32m     24\u001b[0m \u001b[38;5;66;03m# then speed is like hypothenuse in a right triangle\u001b[39;00m\n\u001b[0;32m     25\u001b[0m \u001b[38;5;66;03m# and 3.6 is a conversion factor from meters per second to kmh\u001b[39;00m\n\u001b[0;32m     26\u001b[0m \u001b[38;5;66;03m# e.g. kmh is 1000 meters and one hour is 60 min with 60 sec = 3600 sec\u001b[39;00m\n\u001b[0;32m     27\u001b[0m speed \u001b[38;5;241m=\u001b[39m \u001b[38;5;28mround\u001b[39m(\u001b[38;5;241m3.6\u001b[39m \u001b[38;5;241m*\u001b[39m math\u001b[38;5;241m.\u001b[39msqrt(v\u001b[38;5;241m.\u001b[39mx\u001b[38;5;241m*\u001b[39m\u001b[38;5;241m*\u001b[39m\u001b[38;5;241m2\u001b[39m \u001b[38;5;241m+\u001b[39m v\u001b[38;5;241m.\u001b[39my\u001b[38;5;241m*\u001b[39m\u001b[38;5;241m*\u001b[39m\u001b[38;5;241m2\u001b[39m \u001b[38;5;241m+\u001b[39m v\u001b[38;5;241m.\u001b[39mz\u001b[38;5;241m*\u001b[39m\u001b[38;5;241m*\u001b[39m\u001b[38;5;241m2\u001b[39m),\u001b[38;5;241m0\u001b[39m)\n",
      "\u001b[1;31mAttributeError\u001b[0m: 'NoneType' object has no attribute 'get_velocity'"
     ]
    }
   ],
   "source": [
    "# now little demo to drive straight\n",
    "# close to a desired speed\n",
    "\n",
    "# - press Q to exit, you need to run the bit above to start the car\n",
    "\n",
    "cv2.namedWindow('RGB Camera',cv2.WINDOW_AUTOSIZE)\n",
    "cv2.imshow('RGB Camera',camera_data['image'])\n",
    "\n",
    "#main loop \n",
    "quit = False\n",
    "\n",
    "while True:\n",
    "    # Carla Tick\n",
    "    world.tick()\n",
    "    if cv2.waitKey(1) == ord('q'):\n",
    "        quit = True\n",
    "        break\n",
    "    image = camera_data['image']\n",
    "    \n",
    "    steering_angle = 0 # we do not have it yet\n",
    "    # to get speed we need to use 'get velocity' function\n",
    "    v = vehicle.get_velocity()\n",
    "    # if velocity is a vector in 3d\n",
    "    # then speed is like hypothenuse in a right triangle\n",
    "    # and 3.6 is a conversion factor from meters per second to kmh\n",
    "    # e.g. kmh is 1000 meters and one hour is 60 min with 60 sec = 3600 sec\n",
    "    speed = round(3.6 * math.sqrt(v.x**2 + v.y**2 + v.z**2),0)\n",
    "    # now we add the speed to the window showing a camera mounted on the car\n",
    "    image = cv2.putText(image, 'Speed: '+str(int(speed))+' kmh', org2, \n",
    "                        font, fontScale, color, thickness, cv2.LINE_AA)\n",
    "    # this is where we used the function above to determine accelerator input\n",
    "    # from current speed\n",
    "    estimated_throttle = maintain_speed(speed)\n",
    "    # now we apply accelerator\n",
    "    vehicle.apply_control(carla.VehicleControl(throttle=estimated_throttle, \n",
    "                                               steer=steering_angle))\n",
    "    cv2.imshow('RGB Camera',image)\n",
    "\n",
    "#clean up\n",
    "cv2.destroyAllWindows()\n",
    "camera.stop()\n",
    "for actor in world.get_actors().filter('*vehicle*'):\n",
    "    actor.destroy()\n",
    "for sensor in world.get_actors().filter('*sensor*'):\n",
    "    sensor.destroy()"
   ]
  },
  {
   "cell_type": "code",
   "execution_count": null,
   "id": "1c46415f-33aa-4dd1-ba69-9c401f075441",
   "metadata": {},
   "outputs": [],
   "source": []
  }
 ],
 "metadata": {
  "kernelspec": {
   "display_name": "Python 3 (ipykernel)",
   "language": "python",
   "name": "python3"
  },
  "language_info": {
   "codemirror_mode": {
    "name": "ipython",
    "version": 3
   },
   "file_extension": ".py",
   "mimetype": "text/x-python",
   "name": "python",
   "nbconvert_exporter": "python",
   "pygments_lexer": "ipython3",
   "version": "3.8.0"
  }
 },
 "nbformat": 4,
 "nbformat_minor": 5
}
