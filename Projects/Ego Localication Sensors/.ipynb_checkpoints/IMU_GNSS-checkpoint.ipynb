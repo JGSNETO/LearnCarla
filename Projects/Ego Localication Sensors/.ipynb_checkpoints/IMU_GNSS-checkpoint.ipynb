{
 "cells": [
  {
   "cell_type": "code",
   "execution_count": 1,
   "id": "144571a8-0f19-4b18-81dd-99b0b83012a6",
   "metadata": {},
   "outputs": [],
   "source": [
    "'''\n",
    "Objective: This code initializes required libraries for the Carla simulator to add a vehicle, and attach LiDAR and depth sensors to it. The libraries facilitate the simulation and visualization of the vehicle and sensor data.\n",
    "\n",
    "Libraries Overview:\n",
    "    - carla: Provides the interface to interact with the Carla simulator, allowing vehicle and sensor manipulation.\n",
    "    - math: Supplies mathematical functions (e.g., for positioning, rotations).\n",
    "    - random: Generates random numbers, useful for randomizing vehicle or sensor placement.\n",
    "    - time: Provides time control (e.g., for pauses and timing).\n",
    "    - numpy (np): Enables numerical operations on arrays, important for sensor data processing.\n",
    "    - cv2: Handles image processing and display (for camera sensor data).\n",
    "    - matplotlib and cm: Used for color mapping and data visualization (e.g., for depth sensor).\n",
    "'''\n",
    "import carla \n",
    "import math\n",
    "import random\n",
    "import time\n",
    "import numpy as np\n",
    "import cv2\n",
    "from matplotlib import cm\n",
    "import matplotlib"
   ]
  },
  {
   "cell_type": "code",
   "execution_count": 2,
   "id": "0371127c-95cd-4ef5-9f98-4427a6b0df81",
   "metadata": {},
   "outputs": [],
   "source": [
    "client = carla.Client('localhost', 2000)\n",
    "world = client.get_world()\n"
   ]
  },
  {
   "cell_type": "code",
   "execution_count": 3,
   "id": "84256582-c62d-4c1f-8f8c-bdad4f8d8a34",
   "metadata": {},
   "outputs": [],
   "source": [
    "bp_lib = world.get_blueprint_library()\n",
    "spawn_points = world.get_map().get_spawn_points()"
   ]
  },
  {
   "cell_type": "code",
   "execution_count": 4,
   "id": "08dec924-f2e0-41a6-bb40-7395572963aa",
   "metadata": {},
   "outputs": [],
   "source": [
    "'''\n",
    "Objective: Spawn a specific vehicle in the Carla simulation.\n",
    "\n",
    "1. `bp_lib.find('vehicle.tesla.cybertruck')`:\n",
    "   - Purpose: Locates the blueprint for the Tesla Cybertruck within the blueprint library.\n",
    "   - Usage: Retrieves the vehicle's specifications to allow for instantiation in the simulation.\n",
    "\n",
    "2. `world.try_spawn_actor(vehicle_bp, spawn_points[0])`:\n",
    "   - Purpose: Attempts to spawn an actor (the Tesla Cybertruck) at the first available spawn point.\n",
    "   - Usage: Creates an instance of the vehicle in the simulation; if spawning is successful, it returns the vehicle object, allowing further interaction.\n",
    "'''\n",
    "\n",
    "vehicle_bp = bp_lib.find('vehicle.tesla.cybertruck')\n",
    "vehicle = world.try_spawn_actor(vehicle_bp, spawn_points[0])"
   ]
  },
  {
   "cell_type": "code",
   "execution_count": 5,
   "id": "47f30930-e796-4ee5-a76f-616c5bbca2a5",
   "metadata": {},
   "outputs": [],
   "source": [
    "vehicle.set_autopilot(True)"
   ]
  },
  {
   "cell_type": "code",
   "execution_count": 6,
   "id": "6bcee263-bda2-46bf-8f78-1f9bd3df1597",
   "metadata": {},
   "outputs": [],
   "source": [
    "'''\n",
    "Objective: Define the initial camera position for the simulation.\n",
    "\n",
    "1. `CAMERA_POS_Z = 3`:\n",
    "   - Purpose: Sets the Z-axis position of the camera above the vehicle.\n",
    "   - Usage: Specifies how high the camera will be placed relative to the vehicle, enhancing the field of view.\n",
    "\n",
    "2. `CAMERA_POS_X = 0`:\n",
    "   - Purpose: Sets the X-axis position of the camera.\n",
    "   - Usage: Defines the lateral position of the camera relative to the vehicle, allowing for adjustments in viewpoint.\n",
    "\n",
    "3. `camera_init_trans = carla.Transform(carla.Location(z = CAMERA_POS_Z, x = CAMERA_POS_X))`:\n",
    "   - Purpose: Creates a transformation object representing the camera's initial position.\n",
    "   - Usage: Combines the defined X and Z positions into a transform that can be used when attaching the camera to the vehicle.\n",
    "'''\n",
    "CAMERA_POS_Z = 3\n",
    "CAMERA_POS_X = 0\n",
    "camera_init_trans = carla.Transform(carla.Location(z = CAMERA_POS_Z, x = CAMERA_POS_X))"
   ]
  },
  {
   "cell_type": "code",
   "execution_count": 7,
   "id": "249310c9-d6e7-4066-a2bf-9a0480dcf986",
   "metadata": {},
   "outputs": [],
   "source": [
    "'''\n",
    "Objective: Spawn an RGB camera sensor and attach it to the vehicle.\n",
    "\n",
    "1. `camera_bp = bp_lib.find('sensor.camera.rgb')`:\n",
    "   - Purpose: Locates the blueprint for the RGB camera within the blueprint library.\n",
    "   - Usage: Retrieves the specifications needed to instantiate the camera in the simulation.\n",
    "\n",
    "2. `camera = world.spawn_actor(camera_bp, camera_init_trans, attach_to=vehicle)`:\n",
    "   - Purpose: Spawns the RGB camera actor at the specified initial transform and attaches it to the vehicle.\n",
    "   - Usage: Ensures that the camera moves with the vehicle, allowing for real-time image capture during the simulation.\n",
    "'''\n",
    "camera_bp = bp_lib.find('sensor.camera.rgb')\n",
    "camera = world.spawn_actor(camera_bp, camera_init_trans, attach_to=vehicle)"
   ]
  },
  {
   "cell_type": "code",
   "execution_count": 8,
   "id": "f848d2dd-4d97-4276-9d9e-0b38921db958",
   "metadata": {},
   "outputs": [],
   "source": [
    "gnss_bp = bp_lib.find('sensor.other.gnss')\n",
    "gnss_sensor = world.spawn_actor(gnss_bp, camera_init_trans, attach_to=vehicle)"
   ]
  },
  {
   "cell_type": "code",
   "execution_count": 9,
   "id": "62b45579-6360-47b7-98e6-a42172a69a3c",
   "metadata": {},
   "outputs": [],
   "source": [
    "imu_bp = bp_lib.find('sensor.other.imu')\n",
    "imu_sensor = world.spawn_actor(imu_bp, camera_init_trans, attach_to = vehicle)"
   ]
  },
  {
   "cell_type": "code",
   "execution_count": 10,
   "id": "7c35e7d9-dafe-4c82-9726-973a6d70e982",
   "metadata": {},
   "outputs": [],
   "source": [
    "'''\n",
    "Objective: Process and store incoming camera images.\n",
    "\n",
    "1. `def camera_callback(image, data_dict):`\n",
    "   - Purpose: Defines a callback function that processes raw image data from the camera.\n",
    "   - Parameters:\n",
    "     - `image`: The raw image data received from the camera sensor.\n",
    "     - `data_dict`: A dictionary where the processed image will be stored.\n",
    "\n",
    "2. Inside the function:\n",
    "   - `data_dict['image'] = np.reshape(np.copy(image.raw_data), (image.height, image.width, 4))`:\n",
    "     - Purpose: Copies the raw image data and reshapes it into a 4-channel image (including an alpha channel).\n",
    "     - `np.copy(image.raw_data)`: Creates a copy of the raw image data to prevent modifications to the original data.\n",
    "     - `np.reshape(..., (image.height, image.width, 4))`: Reshapes the data into a format suitable for further processing, where `image.height` and `image.width` correspond to the image's dimensions.\n",
    "\n",
    "3. Usage: This function allows real-time updates of the camera image data for visualization or analysis.\n",
    "\n",
    "'''\n",
    "def camera_callback(image, data_dict):\n",
    "    data_dict['image'] = np.reshape(np.copy(image.raw_data), (image.height, image.width, 4))"
   ]
  },
  {
   "cell_type": "code",
   "execution_count": 11,
   "id": "4badcb1c-96df-453e-9185-59f1c4333204",
   "metadata": {},
   "outputs": [],
   "source": [
    "def gnss_callback(data, data_dict):\n",
    "    data_dict['gnss'] = [data.latitude, data.longitude]"
   ]
  },
  {
   "cell_type": "code",
   "execution_count": 12,
   "id": "b9458a43-7250-49fb-ac32-f789f75eb9a1",
   "metadata": {},
   "outputs": [],
   "source": [
    "def imu_callback(data, data_dict):\n",
    "    data_dict['imu'] = {\n",
    "        'gyro' : data.gyroscope, \n",
    "        'accel' : data.accelerometer,\n",
    "        'compass' : data.compass\n",
    "    }\n"
   ]
  },
  {
   "cell_type": "code",
   "execution_count": 13,
   "id": "8ae08c9e-5b22-4bcc-898b-6a72d68e30be",
   "metadata": {},
   "outputs": [],
   "source": [
    "''' \n",
    "Objective: Retrieve the dimensions of the camera's image.\n",
    "\n",
    "1. `image_w = camera_bp.get_attribute(\"image_size_x\").as_int()`:\n",
    "   - Purpose: Fetches the width of the camera's image in pixels.\n",
    "   - Usage: Stores the image width, which can be used for processing or displaying the captured images.\n",
    "\n",
    "2. `image_h = camera_bp.get_attribute(\"image_size_y\").as_int()`:\n",
    "   - Purpose: Fetches the height of the camera's image in pixels.\n",
    "   - Usage: Stores the image height, ensuring that the dimensions are available for image processing and visualization tasks.\n",
    "\n",
    "'''\n",
    "image_w = camera_bp.get_attribute(\"image_size_x\").as_int()\n",
    "image_h = camera_bp.get_attribute(\"image_size_y\").as_int()"
   ]
  },
  {
   "cell_type": "code",
   "execution_count": 14,
   "id": "c3b3c42d-502b-4cfb-9235-6e0f969ccb6c",
   "metadata": {},
   "outputs": [],
   "source": [
    "sensor_data = {'image': np.zeros((image_h, image_w, 4)),\n",
    "               'gnss' : [0.0],\n",
    "               'imu' : {\n",
    "                   'gyro' : carla.Vector3D(),\n",
    "                   'accel': carla.Vector3D(),\n",
    "                   'compass' : 0\n",
    "               }}"
   ]
  },
  {
   "cell_type": "code",
   "execution_count": 15,
   "id": "b89dce2b-c7d0-4aad-a3f3-5e3a63630240",
   "metadata": {},
   "outputs": [],
   "source": [
    "cv2.namedWindow('RGB Camera', cv2.WINDOW_AUTOSIZE)\n",
    "cv2.imshow('RGB Camera', sensor_data['image'])\n",
    "cv2.waitKey(1)\n",
    "\n",
    "camera.listen(lambda image: camera_callback(image, sensor_data))\n",
    "gnss_sensor.listen(lambda event: gnss_callback(event, sensor_data))\n",
    "imu_sensor.listen(lambda event: imu_callback(event, sensor_data))\n",
    "\n",
    "font = cv2.FONT_HERSHEY_SIMPLEX\n",
    "bottomleftCornerOfText = (10, 50)\n",
    "fontScale = 0.5\n",
    "fontColor = (255, 255, 255)\n",
    "tickness = 2\n",
    "lineType = 2\n",
    "\n",
    "\n",
    "while True:\n",
    "    cv2.putText(sensor_data['image'], 'Lat: ' + str(sensor_data['gnss'][0]),\n",
    "                (10,30),\n",
    "                font,\n",
    "                fontScale,\n",
    "                fontColor,\n",
    "                tickness,\n",
    "                lineType)\n",
    "\n",
    "    cv2.putText(sensor_data['image'], 'Long: ' + str(sensor_data['gnss'][1]),\n",
    "    (10, 50),\n",
    "    font,\n",
    "    fontScale,\n",
    "    fontColor,\n",
    "    tickness,\n",
    "    lineType)\n",
    "\n",
    "    accel = sensor_data['imu']['accel'] - carla.Vector3D(x=0, y=0, z=0.81)\n",
    "\n",
    "    cv2.putText(sensor_data['image'], 'Accel: ' + str(accel.length()),\n",
    "    (10, 70),\n",
    "    font,\n",
    "    fontScale,\n",
    "    fontColor,\n",
    "    tickness,\n",
    "    lineType)\n",
    "\n",
    "    cv2.putText(sensor_data['image'], 'Gyro: ' + str(sensor_data['imu']['gyro'].length()),\n",
    "    (10, 100),\n",
    "    font,\n",
    "    fontScale,\n",
    "    fontColor,\n",
    "    tickness,\n",
    "    lineType)\n",
    "\n",
    "   \n",
    "    cv2.imshow('RGB Camera', sensor_data['image'])\n",
    "    if cv2.waitKey(1) == ord('q'):\n",
    "        break\n",
    "\n",
    "cv2.destroyAllWindows()\n",
    "camera.stop()\n",
    "camera.destroy()\n",
    "imu_sensor.stop()\n",
    "gnss_sensor.destroy()\n",
    "for actor in world.get_actors().filter('*vehicle*'):\n",
    "    actor.destroy()\n",
    "for sensor in world.get_actors().filter('*sensor*'):\n",
    "    sensor.destroy()"
   ]
  }
 ],
 "metadata": {
  "kernelspec": {
   "display_name": "Python 3 (ipykernel)",
   "language": "python",
   "name": "python3"
  },
  "language_info": {
   "codemirror_mode": {
    "name": "ipython",
    "version": 3
   },
   "file_extension": ".py",
   "mimetype": "text/x-python",
   "name": "python",
   "nbconvert_exporter": "python",
   "pygments_lexer": "ipython3",
   "version": "3.8.0"
  }
 },
 "nbformat": 4,
 "nbformat_minor": 5
}
