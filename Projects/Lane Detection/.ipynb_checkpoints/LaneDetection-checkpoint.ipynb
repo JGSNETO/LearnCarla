{
 "cells": [
  {
   "cell_type": "code",
   "execution_count": 1,
   "id": "56ed74cf-8aff-43f3-8f16-bdc01de278cf",
   "metadata": {},
   "outputs": [],
   "source": [
    "import carla\n",
    "import cv2\n",
    "import numpy as np"
   ]
  },
  {
   "cell_type": "code",
   "execution_count": 2,
   "id": "0841e068-15cd-4278-a456-baa9d46ee319",
   "metadata": {},
   "outputs": [],
   "source": [
    "client = carla.Client('localhost', 2000)\n",
    "\n",
    "world = client.get_world()\n",
    "spawn_points = world.get_map().get_spawn_points()\n",
    "\n",
    "vehicle_bp = world.get_blueprint_library().filter('*cybertruck*')\n",
    "start_point = spawn_points[0]\n",
    "vehicle = world.try_spawn_actor(vehicle_bp[0], start_point)\n",
    "vehicle.set_autopilot(True)"
   ]
  },
  {
   "cell_type": "code",
   "execution_count": 4,
   "id": "9ff6693b-b7f7-4a00-9a68-81490cb0b79e",
   "metadata": {},
   "outputs": [],
   "source": [
    "# Camera Pos\n",
    "CAMERA_POS_Z = 5\n",
    "CAMERA_POS_X = 0\n",
    "\n",
    "camera_bp = world.get_blueprint_library().find('sensor.camera.rgb')\n",
    "camera_bp.set_attribute('image_size_x', '640')\n",
    "camera_bp.set_attribute('image_size_y', '360')\n",
    "\n",
    "camera_init_trans = carla.Transform(carla.Location(z=CAMERA_POS_Z, x = CAMERA_POS_X))\n",
    "# Create camera in the sim\n",
    "camera = world.spawn_actor(camera_bp, camera_init_trans, attach_to=vehicle)\n",
    "\n",
    "def camera_callback(image, data_dict):\n",
    "    data_dict['image'] = np.reshape(np.copy(image.raw_data), (image.height, image.width,4))\n",
    "\n",
    "image_w = camera_bp.get_attribute('image_size_x').as_int()\n",
    "image_h = camera_bp.get_attribute('image_size_y').as_int()\n",
    "\n",
    "camera_data = {'image' : np.zeros((image_h, image_w,4))}\n",
    "# Open live stream from the camera\n",
    "camera.listen(lambda image: camera_callback(image, camera_data))"
   ]
  },
  {
   "cell_type": "code",
   "execution_count": null,
   "id": "c5bfd07e-ed23-4cdc-a358-fcc5aad4d5a9",
   "metadata": {},
   "outputs": [],
   "source": [
    "cv2.namedWindow('RGB Camera', cv2.WINDOW_AUTOSIZE)\n",
    "#cv2.imshow('RGB Camera', camera_data['image'])\n",
    "\n",
    "quit = False\n",
    "\n",
    "while True:\n",
    "    world.tick()\n",
    "    if cv2.waitKey(1) == ord('q'):\n",
    "        quit = True\n",
    "        break\n",
    "    image = camera_data['image']\n",
    "    gray_image = cv2.cvtColor(image, cv2.COLOR_BGR2GRAY)\n",
    "    #lane_detection_image = np.copy(gray_image)\n",
    "    #lane_detection_image[(lane_detection_image[:,:] < 250)] = 0\n",
    "    cv2.imshow('RGB camera', lane_detection_image)\n",
    "\n",
    "cv2.destroyAllWindows()\n",
    "camera.stop()\n",
    "for actor in world.get_actors().filter('*vehicle*'):\n",
    "    actor.destroy()\n",
    "for sensor in world.get_actors().filter('*sensor*'):\n",
    "    sensor.destroy()"
   ]
  },
  {
   "cell_type": "code",
   "execution_count": 3,
   "id": "d523222c-2809-425e-ad22-468cffcb6c50",
   "metadata": {},
   "outputs": [],
   "source": [
    "# Script for destrucction\n",
    "\n",
    "for actor in world.get_actors().filter('*vehicle*'):\n",
    "    actor.destroy()\n",
    "for actor in world.get_actors().filter('*sensor*'):\n",
    "    actor.destroy()"
   ]
  },
  {
   "cell_type": "code",
   "execution_count": null,
   "id": "0d325f1b-7c55-4a34-bf6c-f80149a454e4",
   "metadata": {},
   "outputs": [],
   "source": []
  }
 ],
 "metadata": {
  "kernelspec": {
   "display_name": "Python 3 (ipykernel)",
   "language": "python",
   "name": "python3"
  },
  "language_info": {
   "codemirror_mode": {
    "name": "ipython",
    "version": 3
   },
   "file_extension": ".py",
   "mimetype": "text/x-python",
   "name": "python",
   "nbconvert_exporter": "python",
   "pygments_lexer": "ipython3",
   "version": "3.8.0"
  }
 },
 "nbformat": 4,
 "nbformat_minor": 5
}
