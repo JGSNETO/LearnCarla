{
 "cells": [
  {
   "cell_type": "code",
   "execution_count": 1,
   "id": "03228aae-9c8f-4315-822e-94f383c3dd79",
   "metadata": {},
   "outputs": [
    {
     "name": "stdout",
     "output_type": "stream",
     "text": [
      "Jupyter environment detected. Enabling Open3D WebVisualizer.\n",
      "[Open3D INFO] WebRTC GUI backend enabled.\n",
      "[Open3D INFO] WebRTCWindowSystem: HTTP handshake server disabled.\n"
     ]
    }
   ],
   "source": [
    "import carla \n",
    "import math\n",
    "import random\n",
    "import time\n",
    "import numpy as np\n",
    "import cv2\n",
    "import open3d as o3d # to mention\n",
    "from matplotlib import cm\n",
    "import matplotlib"
   ]
  },
  {
   "cell_type": "code",
   "execution_count": 2,
   "id": "b0355f7a-a03a-48ba-bc4f-f5a0326e3d17",
   "metadata": {},
   "outputs": [],
   "source": [
    "client = carla.Client('localhost', 2000)\n",
    "world = client.get_world()"
   ]
  },
  {
   "cell_type": "code",
   "execution_count": 3,
   "id": "231eedc4-c334-45fb-ae19-716cf435a4af",
   "metadata": {},
   "outputs": [],
   "source": [
    "bp_lib = world.get_blueprint_library()\n"
   ]
  },
  {
   "cell_type": "code",
   "execution_count": 4,
   "id": "69f9bf61-5d37-4bef-a7fa-e0e5df0dc382",
   "metadata": {},
   "outputs": [],
   "source": [
    "spawn_points = world.get_map().get_spawn_points()"
   ]
  },
  {
   "cell_type": "code",
   "execution_count": 5,
   "id": "df164f6f-acdb-41b3-ace5-55efb7401ec7",
   "metadata": {},
   "outputs": [],
   "source": [
    "vehicle_bp = bp_lib.find('vehicle.tesla.cybertruck')\n",
    "vehicle = world.try_spawn_actor(vehicle_bp, spawn_points[0])"
   ]
  },
  {
   "cell_type": "code",
   "execution_count": 6,
   "id": "58741ccc-7127-4d27-978a-331f8bbfd120",
   "metadata": {},
   "outputs": [],
   "source": [
    "VIRIDIS = np.array(matplotlib.colormaps.get_cmap('plasma').colors)\n",
    "VID_RANGE = np.linspace(0.0, 1.0, VIRIDIS.shape[0])\n",
    "\n",
    "COOL_RANGE = np.linspace(0.0, 1.0, VIRIDIS.shape[0])\n",
    "COOL = np.array(matplotlib.colormaps.get_cmap('winter')(COOL_RANGE))\n",
    "COOL = COOL[:,:3]\n",
    "\n",
    "def add_open3d_axis(vis):\n",
    "    ''' Add a small 3D axis on Open3D visualizer '''\n",
    "    axis = o3d.geometry.LineSet()\n",
    "    axis.points = o3d.utility.Vector3dVector(np.array([\n",
    "        [0.0, 0.0, 0.0],\n",
    "        [1.0, 0.0, 0.0],\n",
    "        [0.0, 1.0, 0.0],\n",
    "        [0.0, 0.0, 1.0]]))\n",
    "    axis.lines = o3d.utility.Vector2iVector(np.array([\n",
    "        [0, 1],\n",
    "        [0, 2],\n",
    "        [0, 3]]))\n",
    "    axis.colors = o3d.utility.Vector3dVector(np.array([\n",
    "        [1.0, 0.0, 0.0],\n",
    "        [0.0, 1.0, 0.0],\n",
    "        [0.0, 0.0, 1.0]]))\n",
    "    vis.add_geometry(axis)"
   ]
  },
  {
   "cell_type": "code",
   "execution_count": 7,
   "id": "63170eee-656e-4dfb-aae9-faa0a815797f",
   "metadata": {},
   "outputs": [],
   "source": [
    "def lidar_callback(point_cloud, point_list):\n",
    "    ''' Prepares a point cloud with intensity colors ready to be consumed by Open3D'''\n",
    "    data = np.copy(np.frombuffer(point_cloud.raw_data, dtype = np.dtype('f4')))\n",
    "    data = np.reshape(data, (int(data.shape[0] / 4), 4))\n",
    "\n",
    "    # Isolate the intensity and compute a color for it\n",
    "    intensity = data[:, -1]\n",
    "    intensity_col = 1.0 - np.log(intensity) / np.log(np.exp(-0.004 * 100))\n",
    "    int_color = np.c_[\n",
    "        np.interp(intensity_col, VID_RANGE, VIRIDIS[:, 0]),\n",
    "        np.interp(intensity_col, VID_RANGE, VIRIDIS[:, 1]),\n",
    "        np.interp(intensity_col, VID_RANGE, VIRIDIS[:, 2])]\n",
    "\n",
    "    points = data[:, :-1]\n",
    "    points[:, :1] = -points[:, :1]\n",
    "\n",
    "    point_list.points = o3d.utility.Vector3dVector(points)\n",
    "    point_list.colors = o3d.utility.Vector3dVector(int_color)\n"
   ]
  },
  {
   "cell_type": "code",
   "execution_count": 17,
   "id": "be2a5924-b1ec-4825-b89b-382e0c9ad24d",
   "metadata": {},
   "outputs": [],
   "source": [
    "def radar_callback(data, point_list):\n",
    "\n",
    "    radar_data = np.zeros((len(data), 4))\n",
    "\n",
    "    for i, detection in enumerate(data):\n",
    "        x = detection.depth * math.cos(detection.altitude) * math.cos(detection.azimuth)\n",
    "        y = detection.depth * math.cos(detection.altitude) * math.sin(detection.azimuth)\n",
    "        z = detection.depth * math.sin(detection.altitude)\n",
    "\n",
    "        radar_data[i, :] = [x, y, z, detection.velocity]\n",
    "\n",
    "    intensity = np.abs(radar_data[:, -1])\n",
    "    intensity_col = 1.0 - np.log(intensity) / np.log(np.exp(-0.004 * 100))\n",
    "    int_color = np.c_[\n",
    "        np.interp(intensity_col, COOL_RANGE, COOL[:, 0]), \n",
    "        np.interp(intensity_col, COOL_RANGE, COOL[:, 1]), \n",
    "        np.interp(intensity_col, COOL_RANGE, COOL[:, 2])]\n",
    "\n",
    "    points = radar_data[:, :-1]\n",
    "    points[:, :1] = -points[:, :1]\n",
    "    point_list.points = o3d.utility.Vector3dVector(points)\n",
    "    point_list.colors = o3d.utility.Vector3dVector(int_color)"
   ]
  },
  {
   "cell_type": "code",
   "execution_count": 18,
   "id": "76547396-fcac-48bb-a723-bee23336f0de",
   "metadata": {},
   "outputs": [],
   "source": [
    "def camera_callback(image, data_dict):\n",
    "    data_dict['image'] = np.reshape(np.copy(image.raw_data), (image.height, image.width, 4))"
   ]
  },
  {
   "cell_type": "code",
   "execution_count": 19,
   "id": "eb1f6525-f542-4c82-9675-ecacf2c8fd0d",
   "metadata": {},
   "outputs": [],
   "source": [
    "CAMERA_POS_Z = 3\n",
    "CAMERA_POS_X = 0"
   ]
  },
  {
   "cell_type": "code",
   "execution_count": 20,
   "id": "cb0b309b-6af6-4e4b-8f3d-0b4e564d4938",
   "metadata": {},
   "outputs": [],
   "source": [
    "lidar_bp = bp_lib.find('sensor.lidar.ray_cast')\n",
    "lidar_bp.set_attribute('range', '100.0')\n",
    "lidar_bp.set_attribute('noise_stddev', '0.1')\n",
    "lidar_bp.set_attribute('upper_fov', '15.0')\n",
    "lidar_bp.set_attribute('lower_fov', '-25.0')\n",
    "lidar_bp.set_attribute('channels', '64.0')\n",
    "lidar_bp.set_attribute('rotation_frequency', '20.0')\n",
    "lidar_bp.set_attribute('points_per_second', '500000')\n",
    "\n",
    "lidar_init_trans = carla.Transform(carla.Location(z=CAMERA_POS_Z, x=CAMERA_POS_X))\n",
    "lidar = world.spawn_actor(lidar_bp, lidar_init_trans, attach_to = vehicle)"
   ]
  },
  {
   "cell_type": "code",
   "execution_count": 21,
   "id": "61a589ec-4f92-45fa-af7b-e90708515d0a",
   "metadata": {},
   "outputs": [],
   "source": [
    "radar_bp = bp_lib.find('sensor.other.radar')\n",
    "radar_bp.set_attribute('horizontal_fov' , '30.0')\n",
    "radar_bp.set_attribute('vertical_fov', '30,0')\n",
    "radar_bp.set_attribute('points_per_second', '10000')\n",
    "radar_init_trans = carla.Transform(carla.Location(z=CAMERA_POS_Z, x=CAMERA_POS_X))\n",
    "radar = world.spawn_actor(radar_bp, radar_init_trans, attach_to = vehicle)"
   ]
  },
  {
   "cell_type": "code",
   "execution_count": 22,
   "id": "f1af10de-db91-436f-9133-191934560766",
   "metadata": {},
   "outputs": [],
   "source": [
    "camera_bp = bp_lib.find('sensor.camera.rgb')\n",
    "camera_init_trans = carla.Transform(carla.Location(z=CAMERA_POS_Z, x=CAMERA_POS_X))\n",
    "camera = world.spawn_actor(camera_bp, camera_init_trans, attach_to = vehicle) "
   ]
  },
  {
   "cell_type": "code",
   "execution_count": 23,
   "id": "8460d9a5-b6c6-4e41-94b4-067d0184a548",
   "metadata": {},
   "outputs": [],
   "source": [
    "point_list = o3d.geometry.PointCloud()\n",
    "radar_list = o3d.geometry.PointCloud()"
   ]
  },
  {
   "cell_type": "code",
   "execution_count": 24,
   "id": "d3c9137a-3184-445f-befd-69de8c443ecb",
   "metadata": {},
   "outputs": [],
   "source": [
    "image_w = camera_bp.get_attribute(\"image_size_x\").as_int()\n",
    "image_h = camera_bp.get_attribute(\"image_size_y\").as_int()"
   ]
  },
  {
   "cell_type": "code",
   "execution_count": 25,
   "id": "31ddb58e-14b4-4d7c-9f6a-ecc384b13c67",
   "metadata": {},
   "outputs": [],
   "source": [
    "camera_data = {'image' : np.zeros((image_h, image_w, 4))}"
   ]
  },
  {
   "cell_type": "code",
   "execution_count": 26,
   "id": "86c57bdb-49ff-4baa-9f29-3983b6d58de7",
   "metadata": {},
   "outputs": [],
   "source": [
    "lidar.listen(lambda data: lidar_callback(data, point_list))"
   ]
  },
  {
   "cell_type": "code",
   "execution_count": 27,
   "id": "cde7447f-e2c3-40cd-abf4-54143a437dba",
   "metadata": {},
   "outputs": [
    {
     "name": "stderr",
     "output_type": "stream",
     "text": [
      "C:\\Users\\jgsnt\\AppData\\Local\\Temp\\ipykernel_46084\\2404943402.py:13: RuntimeWarning: divide by zero encountered in log\n",
      "  intensity_col = 1.0 - np.log(intensity) / np.log(np.exp(-0.004 * 100))\n"
     ]
    }
   ],
   "source": [
    "radar.listen(lambda data: radar_callback(data, radar_list))"
   ]
  },
  {
   "cell_type": "code",
   "execution_count": 28,
   "id": "623f5fd5-0d60-4d22-9cf6-22aecca3fdd1",
   "metadata": {},
   "outputs": [
    {
     "name": "stderr",
     "output_type": "stream",
     "text": [
      "C:\\Users\\jgsnt\\AppData\\Local\\Temp\\ipykernel_46084\\2404943402.py:13: RuntimeWarning: divide by zero encountered in log\n",
      "  intensity_col = 1.0 - np.log(intensity) / np.log(np.exp(-0.004 * 100))\n"
     ]
    },
    {
     "data": {
      "text/plain": [
       "True"
      ]
     },
     "execution_count": 28,
     "metadata": {},
     "output_type": "execute_result"
    }
   ],
   "source": [
    "cv2.namedWindow('RGB Camera', cv2.WINDOW_AUTOSIZE)\n",
    "cv2.imshow('RGB Camera', camera_data['image'])\n",
    "cv2.waitKey(1)\n",
    "\n",
    "vis = o3d.visualization.Visualizer()\n",
    "vis.create_window(\n",
    "    window_name = 'Carla Lidar',\n",
    "    width = 960,\n",
    "    height = 540,\n",
    "    left = 480,\n",
    "    top = 270)\n",
    "\n",
    "vis.get_render_option().background_color = [0.05, 0.05, 0.05]\n",
    "vis.get_render_option().point_size = 1\n",
    "vis.get_render_option().show_coordinate_frame = True\n",
    "add_open3d_axis(vis)\n",
    "frame = 0\n",
    "\n",
    "while True:\n",
    "    if frame == 2:\n",
    "        vis.add_geometry(point_list)\n",
    "        vis.add_geometry(radar_list)\n",
    "    vis.update_geometry(point_list)\n",
    "    vis.update_geometry(radar_list)\n",
    "\n",
    "    vis.poll_events()\n",
    "    vis.update_renderer()\n",
    "    time.sleep(0.005)\n",
    "    frame +=1\n",
    "    cv2.imshow('RGB Camera', camera_data['image'])\n",
    "\n",
    "    if cv2.waitKey(1) == ord('q'):\n",
    "        break\n",
    "\n",
    "cv2.destroyAllWindows()\n",
    "radar.stop()\n",
    "radar.destroy()\n",
    "lidar.stop()\n",
    "lidar.destroy()\n",
    "camera.stop()\n",
    "camera.destroy()"
   ]
  },
  {
   "cell_type": "code",
   "execution_count": null,
   "id": "5120a6fa-77c4-4726-b397-0609eec982a9",
   "metadata": {},
   "outputs": [],
   "source": []
  }
 ],
 "metadata": {
  "kernelspec": {
   "display_name": "Python 3 (ipykernel)",
   "language": "python",
   "name": "python3"
  },
  "language_info": {
   "codemirror_mode": {
    "name": "ipython",
    "version": 3
   },
   "file_extension": ".py",
   "mimetype": "text/x-python",
   "name": "python",
   "nbconvert_exporter": "python",
   "pygments_lexer": "ipython3",
   "version": "3.8.0"
  }
 },
 "nbformat": 4,
 "nbformat_minor": 5
}
