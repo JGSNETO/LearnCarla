{
 "cells": [
  {
   "cell_type": "code",
   "execution_count": 1,
   "id": "a5aff546-8e1a-43c4-86d7-e436e1dcba34",
   "metadata": {},
   "outputs": [],
   "source": [
    "import carla\n",
    "import math\n",
    "import random\n",
    "import time\n",
    "import numpy as np\n",
    "import cv2"
   ]
  },
  {
   "cell_type": "code",
   "execution_count": 2,
   "id": "be3793d2-5160-498b-88a5-7c60eebc3b47",
   "metadata": {},
   "outputs": [],
   "source": [
    "client = carla.Client('localhost', 2000)\n",
    "world = client.get_world()"
   ]
  },
  {
   "cell_type": "code",
   "execution_count": 3,
   "id": "b5f0afa5-00af-4356-a1cc-8e0985c70489",
   "metadata": {},
   "outputs": [],
   "source": [
    "bp_lib = world.get_blueprint_library()\n",
    "spawn_points = world.get_map().get_spawn_points()"
   ]
  },
  {
   "cell_type": "code",
   "execution_count": 4,
   "id": "4ffe7513-c4d3-48fc-8d71-884a6174032d",
   "metadata": {},
   "outputs": [
    {
     "name": "stdout",
     "output_type": "stream",
     "text": [
      "sensor.other.collision\n",
      "sensor.camera.depth\n",
      "sensor.camera.optical_flow\n",
      "sensor.camera.normals\n",
      "sensor.other.lane_invasion\n",
      "sensor.camera.dvs\n",
      "sensor.other.imu\n",
      "sensor.other.gnss\n",
      "sensor.other.obstacle\n",
      "sensor.other.radar\n",
      "sensor.lidar.ray_cast_semantic\n",
      "sensor.lidar.ray_cast\n",
      "sensor.camera.rgb\n",
      "sensor.camera.semantic_segmentation\n",
      "sensor.other.rss\n",
      "sensor.camera.instance_segmentation\n"
     ]
    }
   ],
   "source": [
    "for sensor in bp_lib.filter('sensor'):\n",
    "    print(sensor.id)"
   ]
  },
  {
   "cell_type": "code",
   "execution_count": 5,
   "id": "7f7c6ea8-fc6e-4e02-a8ec-8dae897948a0",
   "metadata": {},
   "outputs": [
    {
     "name": "stdout",
     "output_type": "stream",
     "text": [
      "vehicle.audi.a2\n",
      "vehicle.nissan.micra\n",
      "vehicle.audi.tt\n",
      "vehicle.mercedes.coupe_2020\n",
      "vehicle.bmw.grandtourer\n",
      "vehicle.harley-davidson.low_rider\n",
      "vehicle.ford.ambulance\n",
      "vehicle.micro.microlino\n",
      "vehicle.carlamotors.firetruck\n",
      "vehicle.carlamotors.carlacola\n",
      "vehicle.carlamotors.european_hgv\n",
      "vehicle.ford.mustang\n",
      "vehicle.chevrolet.impala\n",
      "vehicle.lincoln.mkz_2020\n",
      "vehicle.citroen.c3\n",
      "vehicle.dodge.charger_police\n",
      "vehicle.nissan.patrol\n",
      "vehicle.jeep.wrangler_rubicon\n",
      "vehicle.mini.cooper_s\n",
      "vehicle.mercedes.coupe\n",
      "vehicle.dodge.charger_2020\n",
      "vehicle.ford.crown\n",
      "vehicle.seat.leon\n",
      "vehicle.toyota.prius\n",
      "vehicle.yamaha.yzf\n",
      "vehicle.kawasaki.ninja\n",
      "vehicle.bh.crossbike\n",
      "vehicle.mitsubishi.fusorosa\n",
      "vehicle.tesla.model3\n",
      "vehicle.gazelle.omafiets\n",
      "vehicle.tesla.cybertruck\n",
      "vehicle.diamondback.century\n",
      "vehicle.mercedes.sprinter\n",
      "vehicle.audi.etron\n",
      "vehicle.volkswagen.t2\n",
      "vehicle.lincoln.mkz_2017\n",
      "vehicle.dodge.charger_police_2020\n",
      "vehicle.vespa.zx125\n",
      "vehicle.mini.cooper_s_2021\n",
      "vehicle.nissan.patrol_2021\n",
      "vehicle.volkswagen.t2_2021\n"
     ]
    }
   ],
   "source": [
    "for vehicle in bp_lib.filter('vehicle'):\n",
    "    print(vehicle.id)"
   ]
  },
  {
   "cell_type": "code",
   "execution_count": 6,
   "id": "da1058c6-f292-419e-91f1-f1f8d2c74932",
   "metadata": {},
   "outputs": [],
   "source": [
    "vehicle_bp = world.get_blueprint_library().filter('*cybertruck*')\n",
    "vehicle = world.try_spawn_actor(vehicle_bp[0], spawn_points[0])"
   ]
  },
  {
   "cell_type": "code",
   "execution_count": 7,
   "id": "f9fb839f-a0cd-4977-9942-5a04b95c514c",
   "metadata": {},
   "outputs": [],
   "source": [
    "CAMERA_POS_Z = 3\n",
    "CAMERA_POS_X = 0\n",
    "\n",
    "camera_bp = bp_lib.find('sensor.camera.rgb')\n",
    "camera_init_trans = carla.Transform(carla.Location(z = CAMERA_POS_Z, x = CAMERA_POS_X))\n",
    "camera = world.spawn_actor(camera_bp, camera_init_trans, attach_to=vehicle)"
   ]
  },
  {
   "cell_type": "code",
   "execution_count": 8,
   "id": "d2866e85-f44e-4b45-8db8-febb24567a4a",
   "metadata": {},
   "outputs": [],
   "source": [
    "sem_camera_bp = bp_lib.find('sensor.camera.semantic_segmentation')\n",
    "sem_camera = world.spawn_actor(sem_camera_bp, camera_init_trans, attach_to=vehicle)"
   ]
  },
  {
   "cell_type": "code",
   "execution_count": 9,
   "id": "5f25f677-4a0a-480e-9b77-c45319d4087c",
   "metadata": {},
   "outputs": [],
   "source": [
    "inst_camera_bp = bp_lib.find('sensor.camera.instance_segmentation')\n",
    "inst_camera = world.spawn_actor(inst_camera_bp, camera_init_trans, attach_to = vehicle)"
   ]
  },
  {
   "cell_type": "code",
   "execution_count": 10,
   "id": "8ddea3ba-ea5a-4ba7-8443-44f93fad2a4b",
   "metadata": {},
   "outputs": [],
   "source": [
    "depth_camera_bp = bp_lib.find('sensor.camera.depth')\n",
    "depth_camera = world.spawn_actor(depth_camera_bp, camera_init_trans, attach_to = vehicle)"
   ]
  },
  {
   "cell_type": "code",
   "execution_count": 11,
   "id": "e0095a93-991f-485a-9703-11e35aa32f4f",
   "metadata": {},
   "outputs": [],
   "source": [
    "dvs_camera_bp = bp_lib.find('sensor.camera.dvs')\n",
    "dvs_camera = world.spawn_actor(dvs_camera_bp, camera_init_trans, attach_to = vehicle)"
   ]
  },
  {
   "cell_type": "code",
   "execution_count": 12,
   "id": "dbb46183-8106-4232-9c1c-5edce7464fb0",
   "metadata": {},
   "outputs": [],
   "source": [
    "opt_camera_bp = bp_lib.find('sensor.camera.dvs')\n",
    "opt_camera = world.spawn_actor(opt_camera_bp, camera_init_trans, attach_to = vehicle)"
   ]
  },
  {
   "cell_type": "code",
   "execution_count": 13,
   "id": "cfd957e4-c3c8-48c0-bb59-6a3692bdcc32",
   "metadata": {},
   "outputs": [],
   "source": [
    "def rgb_callback(image, data_dict):\n",
    "    data_dict['rgb_image'] = np.reshape(np.copy(image.raw_data), (image.height, image.width, 4))"
   ]
  },
  {
   "cell_type": "code",
   "execution_count": 14,
   "id": "24dac481-6bf7-4229-9f81-d4e11b4ddd80",
   "metadata": {},
   "outputs": [],
   "source": [
    "def sem_callback(image, data_dict):\n",
    "    image.convert(carla.ColorConverter.CityScapesPalette)\n",
    "    data_dict['sem_image'] = np.reshape(np.copy(image.raw_data), (image.height, image.width, 4))"
   ]
  },
  {
   "cell_type": "code",
   "execution_count": 15,
   "id": "d2b75dab-1648-42b1-a182-66d35e1d75f0",
   "metadata": {},
   "outputs": [],
   "source": [
    "def inst_callback(image, data_dict):\n",
    "    data_dict['inst_image'] = np.reshape(np.copy(image.raw_data), (image.height, image.width, 4))"
   ]
  },
  {
   "cell_type": "code",
   "execution_count": 16,
   "id": "9733201d-f9a5-40ac-9fd9-4c1f416a7438",
   "metadata": {},
   "outputs": [],
   "source": [
    "def depth_callback(image, data_dict):\n",
    "    image.convert(carla.ColorConverter.LogarithmicDepth)\n",
    "    data_dict['depth_image'] = np.reshape(np.copy(image.raw_data), (image.height, image.width, 4))"
   ]
  },
  {
   "cell_type": "code",
   "execution_count": 17,
   "id": "09bc8b16-29c0-469a-a772-a31375c211b1",
   "metadata": {},
   "outputs": [],
   "source": [
    "def opt_callback(data, data_dict):\n",
    "    image = data.get_color_coded_flow()\n",
    "    img = np.reshape(np.color(image.raw_data), (image.height, image.width, 4))\n",
    "    img[:,:,3] = 255\n",
    "    data_dict['opt_image'] = img"
   ]
  },
  {
   "cell_type": "code",
   "execution_count": 18,
   "id": "45d543e8-18b8-4a63-8604-7ffde99190dc",
   "metadata": {},
   "outputs": [],
   "source": [
    "def dvs_callback(data, data_dict):\n",
    "    dvs_events = np.frombuffer(data.raw_data, dtype =np.dtype([\n",
    "        ('x', np.uint16), ('y', np.uint16), ('t', np.int64), ('pol', bool)]))\n",
    "    data_dict['dvs_image'] = np.zeros((data.height, data.width, 4), dtype=np.uint8)\n",
    "    dvs_img = np.zeros((data.height, data.width, 3), dtype=np.uint8)\n",
    "    dvs_img[dvs_events[:]['y'], dvs_events[:]['x'], dvs_events[:]['pol'] * 2 ] = 255\n",
    "    data_dict['dvs_image'][:, :, 0:3] = dvs_img"
   ]
  },
  {
   "cell_type": "code",
   "execution_count": 19,
   "id": "fcad5eda-8285-4149-9f02-6e8f4fd9e1f3",
   "metadata": {},
   "outputs": [],
   "source": [
    "def rgb_callback(image, data_dict):\n",
    "    data_dict['rgb_image'] = np.reshape(np.copy(image.raw_data), (image.height, image.width, 4))\n",
    "\n",
    "def sem_callback(image, data_dict):\n",
    "    image.convert(carla.ColorConverter.CityScapesPalette)\n",
    "    data_dict['sem_image'] = np.reshape(np.copy(image.raw_data), (image.height, image.width, 4))\n",
    "\n",
    "def inst_callback(image, data_dict):\n",
    "    data_dict['inst_image'] = np.reshape(np.copy(image.raw_data), (image.height, image.width, 4))\n",
    "\n",
    "def depth_callback(image, data_dict):\n",
    "    image.convert(carla.ColorConverter.LogarithmicDepth)\n",
    "    data_dict['depth_image'] = np.reshape(np.copy(image.raw_data), (image.height, image.width, 4))\n",
    "\n",
    "'''def opt_callback(data, data_dict):\n",
    "    image = data.get_color_coded_flow()\n",
    "    img = np.reshape(np.copy(image.raw_data), (image.height, image.width, 4))\n",
    "    img[:,:,3] = 255\n",
    "    data_dict['opt_image'] = img'''\n",
    "\n",
    "def dvs_callback(data, data_dict):\n",
    "    dvs_events = np.frombuffer(data.raw_data, dtype=np.dtype([\n",
    "        ('x', np.uint16), ('y', np.uint16), ('t', np.int64), ('pol', bool)]))\n",
    "    data_dict['dvs_image'] = np.zeros((data.height, data.width, 4), dtype=np.uint8)\n",
    "    dvs_img = np.zeros((data.height, data.width, 3), dtype=np.uint8)\n",
    "    dvs_img[dvs_events[:]['y'], dvs_events[:]['x'], dvs_events[:]['pol'] * 2] = 255\n",
    "    data_dict['dvs_image'][:,:,0:3] = dvs_img\n"
   ]
  },
  {
   "cell_type": "code",
   "execution_count": 20,
   "id": "64f72c11-4712-4468-a02b-f800a99a5849",
   "metadata": {},
   "outputs": [],
   "source": [
    "image_w = camera_bp.get_attribute(\"image_size_x\").as_int()\n",
    "image_h = camera_bp.get_attribute(\"image_size_y\").as_int()"
   ]
  },
  {
   "cell_type": "code",
   "execution_count": 23,
   "id": "694f5c22-fc08-42aa-b3c7-ac9c4509289d",
   "metadata": {},
   "outputs": [],
   "source": [
    "vehicle.set_autopilot(True)"
   ]
  },
  {
   "cell_type": "code",
   "execution_count": 21,
   "id": "75fa1000-f602-48a9-965f-a521cd46d60d",
   "metadata": {},
   "outputs": [],
   "source": [
    "sensor_data = {'rgb_image': np.zeros((image_h, image_w, 4)),\n",
    "               'sem_image': np.zeros((image_h, image_w, 4)),\n",
    "               'depth_image': np.zeros((image_h, image_w, 4)),\n",
    "               'dvs_image': np.zeros((image_h, image_w, 4)),\n",
    "               'opt_image': np.zeros((image_h, image_w, 4)),\n",
    "               'inst_image': np.zeros((image_h, image_w, 4))}\n",
    "\n",
    "#cv2.namedWindow('All cameras', cv2.WINDOW_AUTOSIZE)\n",
    "\n",
    "camera.listen(lambda image: rgb_callback(image, sensor_data))\n",
    "sem_camera.listen(lambda image: sem_callback(image, sensor_data))\n",
    "inst_camera.listen(lambda image: inst_callback(image, sensor_data))\n",
    "depth_camera.listen(lambda image: depth_callback(image, sensor_data))\n",
    "dvs_camera.listen(lambda image: dvs_callback(image, sensor_data))\n",
    "#opt_camera.listen(lambda image: opt_callback(image, sensor_data))\n",
    "\n",
    "while True:\n",
    "    top_row = np.concatenate((sensor_data['rgb_image'], sensor_data['sem_image'], sensor_data['inst_image']), axis=1)\n",
    "    lower_row = np.concatenate((sensor_data['depth_image'], sensor_data['dvs_image'], sensor_data['dvs_image']), axis=1)\n",
    "    tiled = np.concatenate((top_row, lower_row), axis=0)\n",
    "\n",
    "    cv2.imshow('All cameras', tiled)\n",
    "\n",
    "    if cv2.waitKey(1) == ord('q'):\n",
    "        break\n",
    "        \n",
    "camera.stop()\n",
    "sem_camera.stop()\n",
    "inst_camera.stop()\n",
    "depth_camera.stop()\n",
    "dvs_camera.stop()\n",
    "opt_camera.stop()\n",
    "cv2.destroyAllWindows()\n",
    "        \n",
    "                         "
   ]
  },
  {
   "cell_type": "code",
   "execution_count": null,
   "id": "8dbd8b6b-c402-4fd1-bc04-b83ab0f6a608",
   "metadata": {},
   "outputs": [],
   "source": []
  }
 ],
 "metadata": {
  "kernelspec": {
   "display_name": "Python 3 (ipykernel)",
   "language": "python",
   "name": "python3"
  },
  "language_info": {
   "codemirror_mode": {
    "name": "ipython",
    "version": 3
   },
   "file_extension": ".py",
   "mimetype": "text/x-python",
   "name": "python",
   "nbconvert_exporter": "python",
   "pygments_lexer": "ipython3",
   "version": "3.8.0"
  }
 },
 "nbformat": 4,
 "nbformat_minor": 5
}
