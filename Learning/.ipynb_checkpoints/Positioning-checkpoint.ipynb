{
 "cells": [
  {
   "cell_type": "markdown",
   "id": "2c0ebe42-7683-4327-8a3e-4d90b3f23c45",
   "metadata": {},
   "source": [
    "Reference: https://www.youtube.com/watch?v=f9NGX2T6bmY&list=PL3lTgNaX8q9p_FJWUJHPrYYC5KE5_FaQo&index=4"
   ]
  },
  {
   "cell_type": "code",
   "execution_count": 1,
   "id": "59974063-2ba9-43da-a5d9-fb25da33d10a",
   "metadata": {},
   "outputs": [],
   "source": [
    "import carla"
   ]
  },
  {
   "cell_type": "code",
   "execution_count": 2,
   "id": "932d4929-22bb-4c3a-9315-801e9b9cb9d0",
   "metadata": {},
   "outputs": [],
   "source": [
    "client = carla.Client('localhost', 2000)\n",
    "\n",
    "world = client.get_world()\n",
    "spawn_points = world.get_map().get_spawn_points()\n",
    "\n",
    "vehicle_bp = world.get_blueprint_library().filter('*firetruck*')\n",
    "start_point = spawn_points[0]\n",
    "vehicle = world.try_spawn_actor(vehicle_bp[0], start_point)"
   ]
  },
  {
   "cell_type": "code",
   "execution_count": 3,
   "id": "bffbfd76-51bc-4aff-bcc2-6aee5373fb44",
   "metadata": {},
   "outputs": [
    {
     "name": "stdout",
     "output_type": "stream",
     "text": [
      "Transform(Location(x=-64.644798, y=24.472147, z=-0.001568), Rotation(pitch=-0.000553, yaw=0.159183, roll=0.001250))\n"
     ]
    }
   ],
   "source": [
    "# get the car's position on the map\n",
    "vehicle_pos = vehicle.get_transform()\n",
    "print(vehicle_pos)"
   ]
  },
  {
   "cell_type": "code",
   "execution_count": 4,
   "id": "a9028d74-534f-48d4-86af-2493c4de18ee",
   "metadata": {},
   "outputs": [
    {
     "name": "stdout",
     "output_type": "stream",
     "text": [
      "Transform(Location(x=-64.644844, y=24.471010, z=0.600000), Rotation(pitch=0.000000, yaw=0.159198, roll=0.000000))\n"
     ]
    }
   ],
   "source": [
    "# Initial spawn point is the same - just 0.6m higher off the ground\n",
    "print(start_point)"
   ]
  },
  {
   "cell_type": "code",
   "execution_count": 5,
   "id": "946710b8-ea5e-4f5b-a303-89b4e2f611f7",
   "metadata": {},
   "outputs": [],
   "source": [
    "# send vehicle off\n",
    "vehicle.set_autopilot(True)"
   ]
  },
  {
   "cell_type": "code",
   "execution_count": 7,
   "id": "da116692-f1de-4de6-b656-fde83715b091",
   "metadata": {},
   "outputs": [
    {
     "name": "stdout",
     "output_type": "stream",
     "text": [
      "Transform(Location(x=-45.269001, y=-26.680822, z=-0.003182), Rotation(pitch=-0.029172, yaw=-89.584183, roll=0.000063))\n"
     ]
    }
   ],
   "source": [
    "# Get actual position from the car moving\n",
    "vehicle_pos = vehicle.get_transform()\n",
    "print(vehicle_pos)"
   ]
  },
  {
   "cell_type": "code",
   "execution_count": 8,
   "id": "732095af-34a8-4cda-ba36-bcd57a406851",
   "metadata": {},
   "outputs": [],
   "source": [
    "town_map = world.get_map()"
   ]
  },
  {
   "cell_type": "code",
   "execution_count": 9,
   "id": "0a3f1f7e-5c4a-4faa-8559-0250b1267174",
   "metadata": {},
   "outputs": [
    {
     "data": {
      "text/plain": [
       "carla.libcarla.Map"
      ]
     },
     "execution_count": 9,
     "metadata": {},
     "output_type": "execute_result"
    }
   ],
   "source": [
    "type(town_map)"
   ]
  },
  {
   "cell_type": "code",
   "execution_count": 10,
   "id": "60d7fb4c-4491-40fe-a7a6-bfefa5e15f12",
   "metadata": {},
   "outputs": [
    {
     "name": "stdout",
     "output_type": "stream",
     "text": [
      "Map(name=Carla/Maps/Town10HD_Opt)\n"
     ]
    }
   ],
   "source": [
    "print(town_map)"
   ]
  },
  {
   "cell_type": "code",
   "execution_count": 11,
   "id": "93811855-41e6-433c-a4de-af84d7df6291",
   "metadata": {},
   "outputs": [],
   "source": [
    "roads = town_map.get_topology()"
   ]
  },
  {
   "cell_type": "code",
   "execution_count": 12,
   "id": "9a4a2a36-3e0d-48dd-ac97-6fee5cf1dd90",
   "metadata": {},
   "outputs": [
    {
     "name": "stdout",
     "output_type": "stream",
     "text": [
      "[(<carla.libcarla.Waypoint object at 0x000002B50C5CE390>, <carla.libcarla.Waypoint object at 0x000002B50C5CE450>), (<carla.libcarla.Waypoint object at 0x000002B50C5CE630>, <carla.libcarla.Waypoint object at 0x000002B50C5CE510>), (<carla.libcarla.Waypoint object at 0x000002B50C5CE690>, <carla.libcarla.Waypoint object at 0x000002B50C5CE6F0>), (<carla.libcarla.Waypoint object at 0x000002B50C5CE750>, <carla.libcarla.Waypoint object at 0x000002B50C5CE7B0>), (<carla.libcarla.Waypoint object at 0x000002B50C5CE810>, <carla.libcarla.Waypoint object at 0x000002B50C5CE870>), (<carla.libcarla.Waypoint object at 0x000002B50C5CE8D0>, <carla.libcarla.Waypoint object at 0x000002B50C5CE930>), (<carla.libcarla.Waypoint object at 0x000002B50C5CE990>, <carla.libcarla.Waypoint object at 0x000002B50C5CE9F0>), (<carla.libcarla.Waypoint object at 0x000002B50C5CEA50>, <carla.libcarla.Waypoint object at 0x000002B50C5CEAB0>), (<carla.libcarla.Waypoint object at 0x000002B50C5CEB10>, <carla.libcarla.Waypoint object at 0x000002B50C5CEB70>), (<carla.libcarla.Waypoint object at 0x000002B50C5CEBD0>, <carla.libcarla.Waypoint object at 0x000002B50C5CEC30>), (<carla.libcarla.Waypoint object at 0x000002B50C5CEC90>, <carla.libcarla.Waypoint object at 0x000002B50C5CECF0>), (<carla.libcarla.Waypoint object at 0x000002B50C5CED50>, <carla.libcarla.Waypoint object at 0x000002B50C5CEDB0>), (<carla.libcarla.Waypoint object at 0x000002B50C5CEE10>, <carla.libcarla.Waypoint object at 0x000002B50C5CEE70>), (<carla.libcarla.Waypoint object at 0x000002B50C5CEED0>, <carla.libcarla.Waypoint object at 0x000002B50C5CEF30>), (<carla.libcarla.Waypoint object at 0x000002B50C5CEF90>, <carla.libcarla.Waypoint object at 0x000002B50C5DA030>), (<carla.libcarla.Waypoint object at 0x000002B50C5DA090>, <carla.libcarla.Waypoint object at 0x000002B50C5DA0F0>), (<carla.libcarla.Waypoint object at 0x000002B50C5DA150>, <carla.libcarla.Waypoint object at 0x000002B50C5DA1B0>), (<carla.libcarla.Waypoint object at 0x000002B50C5DA210>, <carla.libcarla.Waypoint object at 0x000002B50C5DA270>), (<carla.libcarla.Waypoint object at 0x000002B50C5DA2D0>, <carla.libcarla.Waypoint object at 0x000002B50C5DA330>), (<carla.libcarla.Waypoint object at 0x000002B50C5DA390>, <carla.libcarla.Waypoint object at 0x000002B50C5DA3F0>), (<carla.libcarla.Waypoint object at 0x000002B50C5DA450>, <carla.libcarla.Waypoint object at 0x000002B50C5DA4B0>), (<carla.libcarla.Waypoint object at 0x000002B50C5DA510>, <carla.libcarla.Waypoint object at 0x000002B50C5DA570>), (<carla.libcarla.Waypoint object at 0x000002B50C5DA5D0>, <carla.libcarla.Waypoint object at 0x000002B50C5DA630>), (<carla.libcarla.Waypoint object at 0x000002B50C5DA690>, <carla.libcarla.Waypoint object at 0x000002B50C5DA6F0>), (<carla.libcarla.Waypoint object at 0x000002B50C5DA750>, <carla.libcarla.Waypoint object at 0x000002B50C5DA7B0>), (<carla.libcarla.Waypoint object at 0x000002B50C5DA810>, <carla.libcarla.Waypoint object at 0x000002B50C5DA870>), (<carla.libcarla.Waypoint object at 0x000002B50C5DA8D0>, <carla.libcarla.Waypoint object at 0x000002B50C5DA930>), (<carla.libcarla.Waypoint object at 0x000002B50C5DA990>, <carla.libcarla.Waypoint object at 0x000002B50C5DA9F0>), (<carla.libcarla.Waypoint object at 0x000002B50C5DAA50>, <carla.libcarla.Waypoint object at 0x000002B50C5DAAB0>), (<carla.libcarla.Waypoint object at 0x000002B50C5DAB10>, <carla.libcarla.Waypoint object at 0x000002B50C5DAB70>), (<carla.libcarla.Waypoint object at 0x000002B50C5DABD0>, <carla.libcarla.Waypoint object at 0x000002B50C5DAC30>), (<carla.libcarla.Waypoint object at 0x000002B50C5DAC90>, <carla.libcarla.Waypoint object at 0x000002B50C5DACF0>), (<carla.libcarla.Waypoint object at 0x000002B50C5DAD50>, <carla.libcarla.Waypoint object at 0x000002B50C5DADB0>), (<carla.libcarla.Waypoint object at 0x000002B50C5DAE10>, <carla.libcarla.Waypoint object at 0x000002B50C5DAE70>), (<carla.libcarla.Waypoint object at 0x000002B50C5DAED0>, <carla.libcarla.Waypoint object at 0x000002B50C5DAF30>), (<carla.libcarla.Waypoint object at 0x000002B50C5DAF90>, <carla.libcarla.Waypoint object at 0x000002B50C5D9030>), (<carla.libcarla.Waypoint object at 0x000002B50C5D9090>, <carla.libcarla.Waypoint object at 0x000002B50C5D90F0>), (<carla.libcarla.Waypoint object at 0x000002B50C5D9150>, <carla.libcarla.Waypoint object at 0x000002B50C5D91B0>), (<carla.libcarla.Waypoint object at 0x000002B50C5D9210>, <carla.libcarla.Waypoint object at 0x000002B50C5D9270>), (<carla.libcarla.Waypoint object at 0x000002B50C5D92D0>, <carla.libcarla.Waypoint object at 0x000002B50C5D9330>), (<carla.libcarla.Waypoint object at 0x000002B50C5D9390>, <carla.libcarla.Waypoint object at 0x000002B50C5D93F0>), (<carla.libcarla.Waypoint object at 0x000002B50C5D9450>, <carla.libcarla.Waypoint object at 0x000002B50C5D94B0>), (<carla.libcarla.Waypoint object at 0x000002B50C5D9510>, <carla.libcarla.Waypoint object at 0x000002B50C5D9570>), (<carla.libcarla.Waypoint object at 0x000002B50C5D95D0>, <carla.libcarla.Waypoint object at 0x000002B50C5D9630>), (<carla.libcarla.Waypoint object at 0x000002B50C5D9690>, <carla.libcarla.Waypoint object at 0x000002B50C5D96F0>), (<carla.libcarla.Waypoint object at 0x000002B50C5D9750>, <carla.libcarla.Waypoint object at 0x000002B50C5D97B0>), (<carla.libcarla.Waypoint object at 0x000002B50C5D9810>, <carla.libcarla.Waypoint object at 0x000002B50C5D9870>), (<carla.libcarla.Waypoint object at 0x000002B50C5D98D0>, <carla.libcarla.Waypoint object at 0x000002B50C5D9930>), (<carla.libcarla.Waypoint object at 0x000002B50C5D9990>, <carla.libcarla.Waypoint object at 0x000002B50C5D99F0>), (<carla.libcarla.Waypoint object at 0x000002B50C5D9A50>, <carla.libcarla.Waypoint object at 0x000002B50C5D9AB0>), (<carla.libcarla.Waypoint object at 0x000002B50C5D9B10>, <carla.libcarla.Waypoint object at 0x000002B50C5D9B70>), (<carla.libcarla.Waypoint object at 0x000002B50C5D9BD0>, <carla.libcarla.Waypoint object at 0x000002B50C5D9C30>), (<carla.libcarla.Waypoint object at 0x000002B50C5D9C90>, <carla.libcarla.Waypoint object at 0x000002B50C5D9CF0>), (<carla.libcarla.Waypoint object at 0x000002B50C5D9D50>, <carla.libcarla.Waypoint object at 0x000002B50C5D9DB0>), (<carla.libcarla.Waypoint object at 0x000002B50C5D9E10>, <carla.libcarla.Waypoint object at 0x000002B50C5D9E70>), (<carla.libcarla.Waypoint object at 0x000002B50C5D9ED0>, <carla.libcarla.Waypoint object at 0x000002B50C5D9F30>), (<carla.libcarla.Waypoint object at 0x000002B50C5D9F90>, <carla.libcarla.Waypoint object at 0x000002B50C5D8030>), (<carla.libcarla.Waypoint object at 0x000002B50C5D8090>, <carla.libcarla.Waypoint object at 0x000002B50C5D80F0>), (<carla.libcarla.Waypoint object at 0x000002B50C5D8150>, <carla.libcarla.Waypoint object at 0x000002B50C5D81B0>), (<carla.libcarla.Waypoint object at 0x000002B50C5D8210>, <carla.libcarla.Waypoint object at 0x000002B50C5D8270>), (<carla.libcarla.Waypoint object at 0x000002B50C5D82D0>, <carla.libcarla.Waypoint object at 0x000002B50C5D8330>), (<carla.libcarla.Waypoint object at 0x000002B50C5D8390>, <carla.libcarla.Waypoint object at 0x000002B50C5D83F0>), (<carla.libcarla.Waypoint object at 0x000002B50C5D8450>, <carla.libcarla.Waypoint object at 0x000002B50C5D84B0>), (<carla.libcarla.Waypoint object at 0x000002B50C5D8510>, <carla.libcarla.Waypoint object at 0x000002B50C5D8570>), (<carla.libcarla.Waypoint object at 0x000002B50C5D85D0>, <carla.libcarla.Waypoint object at 0x000002B50C5D8630>), (<carla.libcarla.Waypoint object at 0x000002B50C5D8690>, <carla.libcarla.Waypoint object at 0x000002B50C5D86F0>), (<carla.libcarla.Waypoint object at 0x000002B50C5D8750>, <carla.libcarla.Waypoint object at 0x000002B50C5D87B0>), (<carla.libcarla.Waypoint object at 0x000002B50C5D8810>, <carla.libcarla.Waypoint object at 0x000002B50C5D8870>), (<carla.libcarla.Waypoint object at 0x000002B50C5D88D0>, <carla.libcarla.Waypoint object at 0x000002B50C5D8930>), (<carla.libcarla.Waypoint object at 0x000002B50C5D8990>, <carla.libcarla.Waypoint object at 0x000002B50C5D89F0>), (<carla.libcarla.Waypoint object at 0x000002B50C5D8A50>, <carla.libcarla.Waypoint object at 0x000002B50C5D8AB0>), (<carla.libcarla.Waypoint object at 0x000002B50C5D8B10>, <carla.libcarla.Waypoint object at 0x000002B50C5D8B70>), (<carla.libcarla.Waypoint object at 0x000002B50C5D8BD0>, <carla.libcarla.Waypoint object at 0x000002B50C5D8C30>), (<carla.libcarla.Waypoint object at 0x000002B50C5D8C90>, <carla.libcarla.Waypoint object at 0x000002B50C5D8CF0>), (<carla.libcarla.Waypoint object at 0x000002B50C5D8D50>, <carla.libcarla.Waypoint object at 0x000002B50C5D8DB0>), (<carla.libcarla.Waypoint object at 0x000002B50C5D8E10>, <carla.libcarla.Waypoint object at 0x000002B50C5D8E70>), (<carla.libcarla.Waypoint object at 0x000002B50C5D8ED0>, <carla.libcarla.Waypoint object at 0x000002B50C5D8F30>), (<carla.libcarla.Waypoint object at 0x000002B50C5D8F90>, <carla.libcarla.Waypoint object at 0x000002B50C5F0030>), (<carla.libcarla.Waypoint object at 0x000002B50C5F0090>, <carla.libcarla.Waypoint object at 0x000002B50C5F00F0>), (<carla.libcarla.Waypoint object at 0x000002B50C5F0150>, <carla.libcarla.Waypoint object at 0x000002B50C5F01B0>), (<carla.libcarla.Waypoint object at 0x000002B50C5F0210>, <carla.libcarla.Waypoint object at 0x000002B50C5F0270>), (<carla.libcarla.Waypoint object at 0x000002B50C5F02D0>, <carla.libcarla.Waypoint object at 0x000002B50C5F0330>), (<carla.libcarla.Waypoint object at 0x000002B50C5F0390>, <carla.libcarla.Waypoint object at 0x000002B50C5F03F0>), (<carla.libcarla.Waypoint object at 0x000002B50C5F0450>, <carla.libcarla.Waypoint object at 0x000002B50C5F04B0>), (<carla.libcarla.Waypoint object at 0x000002B50C5F0510>, <carla.libcarla.Waypoint object at 0x000002B50C5F0570>), (<carla.libcarla.Waypoint object at 0x000002B50C5F05D0>, <carla.libcarla.Waypoint object at 0x000002B50C5F0630>), (<carla.libcarla.Waypoint object at 0x000002B50C5F0690>, <carla.libcarla.Waypoint object at 0x000002B50C5F06F0>), (<carla.libcarla.Waypoint object at 0x000002B50C5F0750>, <carla.libcarla.Waypoint object at 0x000002B50C5F07B0>), (<carla.libcarla.Waypoint object at 0x000002B50C5F0810>, <carla.libcarla.Waypoint object at 0x000002B50C5F0870>), (<carla.libcarla.Waypoint object at 0x000002B50C5F08D0>, <carla.libcarla.Waypoint object at 0x000002B50C5F0930>), (<carla.libcarla.Waypoint object at 0x000002B50C5F0990>, <carla.libcarla.Waypoint object at 0x000002B50C5F09F0>), (<carla.libcarla.Waypoint object at 0x000002B50C5F0A50>, <carla.libcarla.Waypoint object at 0x000002B50C5F0AB0>), (<carla.libcarla.Waypoint object at 0x000002B50C5F0B10>, <carla.libcarla.Waypoint object at 0x000002B50C5F0B70>), (<carla.libcarla.Waypoint object at 0x000002B50C5F0BD0>, <carla.libcarla.Waypoint object at 0x000002B50C5F0C30>), (<carla.libcarla.Waypoint object at 0x000002B50C5F0C90>, <carla.libcarla.Waypoint object at 0x000002B50C5F0CF0>), (<carla.libcarla.Waypoint object at 0x000002B50C5F0D50>, <carla.libcarla.Waypoint object at 0x000002B50C5F0DB0>), (<carla.libcarla.Waypoint object at 0x000002B50C5F0E10>, <carla.libcarla.Waypoint object at 0x000002B50C5F0E70>), (<carla.libcarla.Waypoint object at 0x000002B50C5F0ED0>, <carla.libcarla.Waypoint object at 0x000002B50C5F0F30>), (<carla.libcarla.Waypoint object at 0x000002B50C5F0F90>, <carla.libcarla.Waypoint object at 0x000002B50C5F1030>), (<carla.libcarla.Waypoint object at 0x000002B50C5F1090>, <carla.libcarla.Waypoint object at 0x000002B50C5F10F0>), (<carla.libcarla.Waypoint object at 0x000002B50C5F1150>, <carla.libcarla.Waypoint object at 0x000002B50C5F11B0>), (<carla.libcarla.Waypoint object at 0x000002B50C5F1210>, <carla.libcarla.Waypoint object at 0x000002B50C5F1270>), (<carla.libcarla.Waypoint object at 0x000002B50C5F12D0>, <carla.libcarla.Waypoint object at 0x000002B50C5F1330>), (<carla.libcarla.Waypoint object at 0x000002B50C5F1390>, <carla.libcarla.Waypoint object at 0x000002B50C5F13F0>), (<carla.libcarla.Waypoint object at 0x000002B50C5F1450>, <carla.libcarla.Waypoint object at 0x000002B50C5F14B0>), (<carla.libcarla.Waypoint object at 0x000002B50C5F1510>, <carla.libcarla.Waypoint object at 0x000002B50C5F1570>), (<carla.libcarla.Waypoint object at 0x000002B50C5F15D0>, <carla.libcarla.Waypoint object at 0x000002B50C5F1630>), (<carla.libcarla.Waypoint object at 0x000002B50C5F1690>, <carla.libcarla.Waypoint object at 0x000002B50C5F16F0>), (<carla.libcarla.Waypoint object at 0x000002B50C5F1750>, <carla.libcarla.Waypoint object at 0x000002B50C5F17B0>), (<carla.libcarla.Waypoint object at 0x000002B50C5F1810>, <carla.libcarla.Waypoint object at 0x000002B50C5F1870>), (<carla.libcarla.Waypoint object at 0x000002B50C5F18D0>, <carla.libcarla.Waypoint object at 0x000002B50C5F1930>), (<carla.libcarla.Waypoint object at 0x000002B50C5F1990>, <carla.libcarla.Waypoint object at 0x000002B50C5F19F0>), (<carla.libcarla.Waypoint object at 0x000002B50C5F1A50>, <carla.libcarla.Waypoint object at 0x000002B50C5F1AB0>), (<carla.libcarla.Waypoint object at 0x000002B50C5F1B10>, <carla.libcarla.Waypoint object at 0x000002B50C5F1B70>), (<carla.libcarla.Waypoint object at 0x000002B50C5F1BD0>, <carla.libcarla.Waypoint object at 0x000002B50C5F1C30>), (<carla.libcarla.Waypoint object at 0x000002B50C5F1C90>, <carla.libcarla.Waypoint object at 0x000002B50C5F1CF0>), (<carla.libcarla.Waypoint object at 0x000002B50C5F1D50>, <carla.libcarla.Waypoint object at 0x000002B50C5F1DB0>), (<carla.libcarla.Waypoint object at 0x000002B50C5F1E10>, <carla.libcarla.Waypoint object at 0x000002B50C5F1E70>), (<carla.libcarla.Waypoint object at 0x000002B50C5F1ED0>, <carla.libcarla.Waypoint object at 0x000002B50C5F1F30>), (<carla.libcarla.Waypoint object at 0x000002B50C5F1F90>, <carla.libcarla.Waypoint object at 0x000002B50C5F2030>), (<carla.libcarla.Waypoint object at 0x000002B50C5F2090>, <carla.libcarla.Waypoint object at 0x000002B50C5F20F0>), (<carla.libcarla.Waypoint object at 0x000002B50C5F2150>, <carla.libcarla.Waypoint object at 0x000002B50C5F21B0>), (<carla.libcarla.Waypoint object at 0x000002B50C5F2210>, <carla.libcarla.Waypoint object at 0x000002B50C5F2270>), (<carla.libcarla.Waypoint object at 0x000002B50C5F22D0>, <carla.libcarla.Waypoint object at 0x000002B50C5F2330>), (<carla.libcarla.Waypoint object at 0x000002B50C5F2390>, <carla.libcarla.Waypoint object at 0x000002B50C5F23F0>), (<carla.libcarla.Waypoint object at 0x000002B50C5F2450>, <carla.libcarla.Waypoint object at 0x000002B50C5F24B0>), (<carla.libcarla.Waypoint object at 0x000002B50C5F2510>, <carla.libcarla.Waypoint object at 0x000002B50C5F2570>), (<carla.libcarla.Waypoint object at 0x000002B50C5F25D0>, <carla.libcarla.Waypoint object at 0x000002B50C5F2630>), (<carla.libcarla.Waypoint object at 0x000002B50C5F2690>, <carla.libcarla.Waypoint object at 0x000002B50C5F26F0>), (<carla.libcarla.Waypoint object at 0x000002B50C5F2750>, <carla.libcarla.Waypoint object at 0x000002B50C5F27B0>), (<carla.libcarla.Waypoint object at 0x000002B50C5F2810>, <carla.libcarla.Waypoint object at 0x000002B50C5F2870>), (<carla.libcarla.Waypoint object at 0x000002B50C5F28D0>, <carla.libcarla.Waypoint object at 0x000002B50C5F2930>), (<carla.libcarla.Waypoint object at 0x000002B50C5F2990>, <carla.libcarla.Waypoint object at 0x000002B50C5F29F0>), (<carla.libcarla.Waypoint object at 0x000002B50C5F2A50>, <carla.libcarla.Waypoint object at 0x000002B50C5F2AB0>), (<carla.libcarla.Waypoint object at 0x000002B50C5F2B10>, <carla.libcarla.Waypoint object at 0x000002B50C5F2B70>), (<carla.libcarla.Waypoint object at 0x000002B50C5F2BD0>, <carla.libcarla.Waypoint object at 0x000002B50C5F2C30>), (<carla.libcarla.Waypoint object at 0x000002B50C5F2C90>, <carla.libcarla.Waypoint object at 0x000002B50C5F2CF0>), (<carla.libcarla.Waypoint object at 0x000002B50C5F2D50>, <carla.libcarla.Waypoint object at 0x000002B50C5F2DB0>), (<carla.libcarla.Waypoint object at 0x000002B50C5F2E10>, <carla.libcarla.Waypoint object at 0x000002B50C5F2E70>), (<carla.libcarla.Waypoint object at 0x000002B50C5F2ED0>, <carla.libcarla.Waypoint object at 0x000002B50C5F2F30>), (<carla.libcarla.Waypoint object at 0x000002B50C5F2F90>, <carla.libcarla.Waypoint object at 0x000002B50C5F3030>), (<carla.libcarla.Waypoint object at 0x000002B50C5F3090>, <carla.libcarla.Waypoint object at 0x000002B50C5F30F0>), (<carla.libcarla.Waypoint object at 0x000002B50C5F3150>, <carla.libcarla.Waypoint object at 0x000002B50C5F31B0>), (<carla.libcarla.Waypoint object at 0x000002B50C5F3210>, <carla.libcarla.Waypoint object at 0x000002B50C5F3270>), (<carla.libcarla.Waypoint object at 0x000002B50C5F32D0>, <carla.libcarla.Waypoint object at 0x000002B50C5F3330>), (<carla.libcarla.Waypoint object at 0x000002B50C5F3390>, <carla.libcarla.Waypoint object at 0x000002B50C5F33F0>), (<carla.libcarla.Waypoint object at 0x000002B50C5F3450>, <carla.libcarla.Waypoint object at 0x000002B50C5F34B0>), (<carla.libcarla.Waypoint object at 0x000002B50C5F3510>, <carla.libcarla.Waypoint object at 0x000002B50C5F3570>), (<carla.libcarla.Waypoint object at 0x000002B50C5F35D0>, <carla.libcarla.Waypoint object at 0x000002B50C5F3630>), (<carla.libcarla.Waypoint object at 0x000002B50C5F3690>, <carla.libcarla.Waypoint object at 0x000002B50C5F36F0>), (<carla.libcarla.Waypoint object at 0x000002B50C5F3750>, <carla.libcarla.Waypoint object at 0x000002B50C5F37B0>), (<carla.libcarla.Waypoint object at 0x000002B50C5F3810>, <carla.libcarla.Waypoint object at 0x000002B50C5F3870>), (<carla.libcarla.Waypoint object at 0x000002B50C5F38D0>, <carla.libcarla.Waypoint object at 0x000002B50C5F3930>), (<carla.libcarla.Waypoint object at 0x000002B50C5F3990>, <carla.libcarla.Waypoint object at 0x000002B50C5F39F0>), (<carla.libcarla.Waypoint object at 0x000002B50C5F3A50>, <carla.libcarla.Waypoint object at 0x000002B50C5F3AB0>), (<carla.libcarla.Waypoint object at 0x000002B50C5F3B10>, <carla.libcarla.Waypoint object at 0x000002B50C5F3B70>), (<carla.libcarla.Waypoint object at 0x000002B50C5F3BD0>, <carla.libcarla.Waypoint object at 0x000002B50C5F3C30>), (<carla.libcarla.Waypoint object at 0x000002B50C5F3C90>, <carla.libcarla.Waypoint object at 0x000002B50C5F3CF0>), (<carla.libcarla.Waypoint object at 0x000002B50C5F3D50>, <carla.libcarla.Waypoint object at 0x000002B50C5F3DB0>), (<carla.libcarla.Waypoint object at 0x000002B50C5F3E10>, <carla.libcarla.Waypoint object at 0x000002B50C5F3E70>), (<carla.libcarla.Waypoint object at 0x000002B50C5F3ED0>, <carla.libcarla.Waypoint object at 0x000002B50C5F3F30>), (<carla.libcarla.Waypoint object at 0x000002B50C5F3F90>, <carla.libcarla.Waypoint object at 0x000002B50C5F4030>), (<carla.libcarla.Waypoint object at 0x000002B50C5F4090>, <carla.libcarla.Waypoint object at 0x000002B50C5F40F0>), (<carla.libcarla.Waypoint object at 0x000002B50C5F4150>, <carla.libcarla.Waypoint object at 0x000002B50C5F41B0>), (<carla.libcarla.Waypoint object at 0x000002B50C5F4210>, <carla.libcarla.Waypoint object at 0x000002B50C5F4270>), (<carla.libcarla.Waypoint object at 0x000002B50C5F42D0>, <carla.libcarla.Waypoint object at 0x000002B50C5F4330>), (<carla.libcarla.Waypoint object at 0x000002B50C5F4390>, <carla.libcarla.Waypoint object at 0x000002B50C5F43F0>), (<carla.libcarla.Waypoint object at 0x000002B50C5F4450>, <carla.libcarla.Waypoint object at 0x000002B50C5F44B0>), (<carla.libcarla.Waypoint object at 0x000002B50C5F4510>, <carla.libcarla.Waypoint object at 0x000002B50C5F4570>), (<carla.libcarla.Waypoint object at 0x000002B50C5F45D0>, <carla.libcarla.Waypoint object at 0x000002B50C5F4630>), (<carla.libcarla.Waypoint object at 0x000002B50C5F4690>, <carla.libcarla.Waypoint object at 0x000002B50C5F46F0>), (<carla.libcarla.Waypoint object at 0x000002B50C5F4750>, <carla.libcarla.Waypoint object at 0x000002B50C5F47B0>), (<carla.libcarla.Waypoint object at 0x000002B50C5F4810>, <carla.libcarla.Waypoint object at 0x000002B50C5F4870>), (<carla.libcarla.Waypoint object at 0x000002B50C5F48D0>, <carla.libcarla.Waypoint object at 0x000002B50C5F4930>), (<carla.libcarla.Waypoint object at 0x000002B50C5F4990>, <carla.libcarla.Waypoint object at 0x000002B50C5F49F0>), (<carla.libcarla.Waypoint object at 0x000002B50C5F4A50>, <carla.libcarla.Waypoint object at 0x000002B50C5F4AB0>), (<carla.libcarla.Waypoint object at 0x000002B50C5F4B10>, <carla.libcarla.Waypoint object at 0x000002B50C5F4B70>), (<carla.libcarla.Waypoint object at 0x000002B50C5F4BD0>, <carla.libcarla.Waypoint object at 0x000002B50C5F4C30>), (<carla.libcarla.Waypoint object at 0x000002B50C5F4C90>, <carla.libcarla.Waypoint object at 0x000002B50C5F4CF0>), (<carla.libcarla.Waypoint object at 0x000002B50C5F4D50>, <carla.libcarla.Waypoint object at 0x000002B50C5F4DB0>), (<carla.libcarla.Waypoint object at 0x000002B50C5F4E10>, <carla.libcarla.Waypoint object at 0x000002B50C5F4E70>), (<carla.libcarla.Waypoint object at 0x000002B50C5F4ED0>, <carla.libcarla.Waypoint object at 0x000002B50C5F4F30>), (<carla.libcarla.Waypoint object at 0x000002B50C5F4F90>, <carla.libcarla.Waypoint object at 0x000002B50C5F5030>), (<carla.libcarla.Waypoint object at 0x000002B50C5F5090>, <carla.libcarla.Waypoint object at 0x000002B50C5F50F0>), (<carla.libcarla.Waypoint object at 0x000002B50C5F5150>, <carla.libcarla.Waypoint object at 0x000002B50C5F51B0>), (<carla.libcarla.Waypoint object at 0x000002B50C5F5210>, <carla.libcarla.Waypoint object at 0x000002B50C5F5270>), (<carla.libcarla.Waypoint object at 0x000002B50C5F52D0>, <carla.libcarla.Waypoint object at 0x000002B50C5F5330>), (<carla.libcarla.Waypoint object at 0x000002B50C5F5390>, <carla.libcarla.Waypoint object at 0x000002B50C5F53F0>), (<carla.libcarla.Waypoint object at 0x000002B50C5F5450>, <carla.libcarla.Waypoint object at 0x000002B50C5F54B0>), (<carla.libcarla.Waypoint object at 0x000002B50C5F5510>, <carla.libcarla.Waypoint object at 0x000002B50C5F5570>), (<carla.libcarla.Waypoint object at 0x000002B50C5F55D0>, <carla.libcarla.Waypoint object at 0x000002B50C5F5630>), (<carla.libcarla.Waypoint object at 0x000002B50C5F5690>, <carla.libcarla.Waypoint object at 0x000002B50C5F56F0>), (<carla.libcarla.Waypoint object at 0x000002B50C5F5750>, <carla.libcarla.Waypoint object at 0x000002B50C5F57B0>), (<carla.libcarla.Waypoint object at 0x000002B50C5F5810>, <carla.libcarla.Waypoint object at 0x000002B50C5F5870>), (<carla.libcarla.Waypoint object at 0x000002B50C5F58D0>, <carla.libcarla.Waypoint object at 0x000002B50C5F5930>), (<carla.libcarla.Waypoint object at 0x000002B50C5F5990>, <carla.libcarla.Waypoint object at 0x000002B50C5F59F0>), (<carla.libcarla.Waypoint object at 0x000002B50C5F5A50>, <carla.libcarla.Waypoint object at 0x000002B50C5F5AB0>), (<carla.libcarla.Waypoint object at 0x000002B50C5F5B10>, <carla.libcarla.Waypoint object at 0x000002B50C5F5B70>), (<carla.libcarla.Waypoint object at 0x000002B50C5F5BD0>, <carla.libcarla.Waypoint object at 0x000002B50C5F5C30>), (<carla.libcarla.Waypoint object at 0x000002B50C5F5C90>, <carla.libcarla.Waypoint object at 0x000002B50C5F5CF0>)]\n"
     ]
    }
   ],
   "source": [
    "print(roads)"
   ]
  },
  {
   "cell_type": "code",
   "execution_count": 17,
   "id": "7b9fa625-c3b9-47b3-8251-c11b96cf30e4",
   "metadata": {},
   "outputs": [],
   "source": [
    "import sys\n",
    "sys.path.append('C://Users//jgsnt//Desktop//Repo//LearnCarla//CARLA_0.9.15//PythonAPI//carla')\n",
    "from agents.navigation.global_route_planner import GlobalRoutePlanner"
   ]
  },
  {
   "cell_type": "code",
   "execution_count": 19,
   "id": "862925bb-a579-406b-8deb-3bb9d603d289",
   "metadata": {},
   "outputs": [],
   "source": [
    "sampling_resolution = 2\n",
    "grp = GlobalRoutePlanner(town_map, sampling_resolution)\n",
    "\n",
    "point_a = carla.Location(x=-64.644844, y=24.471010, z=0.600000)\n",
    "point_b = carla.Location(x=-114.478943, y=65.782814, z=-0.003669)\n",
    "\n",
    "route = grp.trace_route(point_a, point_b)\n",
    "\n",
    "for waypoint in route:\n",
    "    world.debug.draw_string(waypoint[0].transform.location, '^', draw_shadow=False,\n",
    "        color=carla.Color(r=0, g=0, b=255), life_time=600.0,\n",
    "        persistent_lines=True)\n",
    "    \n",
    "\n"
   ]
  },
  {
   "cell_type": "code",
   "execution_count": null,
   "id": "a181d99a-e5dd-4ed7-a67c-4cc7b6963cf2",
   "metadata": {},
   "outputs": [],
   "source": [
    "# Utility script of destruction"
   ]
  }
 ],
 "metadata": {
  "kernelspec": {
   "display_name": "Python 3 (ipykernel)",
   "language": "python",
   "name": "python3"
  },
  "language_info": {
   "codemirror_mode": {
    "name": "ipython",
    "version": 3
   },
   "file_extension": ".py",
   "mimetype": "text/x-python",
   "name": "python",
   "nbconvert_exporter": "python",
   "pygments_lexer": "ipython3",
   "version": "3.8.0"
  }
 },
 "nbformat": 4,
 "nbformat_minor": 5
}
