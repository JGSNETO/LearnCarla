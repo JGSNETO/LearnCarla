{
 "cells": [
  {
   "cell_type": "markdown",
   "id": "2c0ebe42-7683-4327-8a3e-4d90b3f23c45",
   "metadata": {},
   "source": [
    "Reference: \n",
    "- https://www.youtube.com/watch?v=f9NGX2T6bmY&list=PL3lTgNaX8q9p_FJWUJHPrYYC5KE5_FaQo&index=4\n",
    "- https://github.com/vadim7s/SelfDrive\n"
   ]
  },
  {
   "cell_type": "code",
   "execution_count": 2,
   "id": "59974063-2ba9-43da-a5d9-fb25da33d10a",
   "metadata": {},
   "outputs": [],
   "source": [
    "import carla"
   ]
  },
  {
   "cell_type": "code",
   "execution_count": 3,
   "id": "932d4929-22bb-4c3a-9315-801e9b9cb9d0",
   "metadata": {},
   "outputs": [],
   "source": [
    "client = carla.Client('localhost', 2000)\n",
    "\n",
    "world = client.get_world()\n",
    "spawn_points = world.get_map().get_spawn_points()\n",
    "\n",
    "vehicle_bp = world.get_blueprint_library().filter('*firetruck*')\n",
    "start_point = spawn_points[0]\n",
    "vehicle = world.try_spawn_actor(vehicle_bp[0], start_point)"
   ]
  },
  {
   "cell_type": "code",
   "execution_count": 4,
   "id": "bffbfd76-51bc-4aff-bcc2-6aee5373fb44",
   "metadata": {},
   "outputs": [
    {
     "name": "stdout",
     "output_type": "stream",
     "text": [
      "Transform(Location(x=-64.644859, y=24.472229, z=-0.001533), Rotation(pitch=0.000451, yaw=0.159212, roll=0.001364))\n"
     ]
    }
   ],
   "source": [
    "# get the car's position on the map\n",
    "vehicle_pos = vehicle.get_transform()\n",
    "print(vehicle_pos)"
   ]
  },
  {
   "cell_type": "code",
   "execution_count": 5,
   "id": "a9028d74-534f-48d4-86af-2493c4de18ee",
   "metadata": {},
   "outputs": [
    {
     "name": "stdout",
     "output_type": "stream",
     "text": [
      "Transform(Location(x=-64.644844, y=24.471010, z=0.600000), Rotation(pitch=0.000000, yaw=0.159198, roll=0.000000))\n"
     ]
    }
   ],
   "source": [
    "# Initial spawn point is the same - just 0.6m higher off the ground\n",
    "print(start_point)"
   ]
  },
  {
   "cell_type": "code",
   "execution_count": 6,
   "id": "946710b8-ea5e-4f5b-a303-89b4e2f611f7",
   "metadata": {},
   "outputs": [],
   "source": [
    "# send vehicle off\n",
    "vehicle.set_autopilot(True)"
   ]
  },
  {
   "cell_type": "code",
   "execution_count": 7,
   "id": "da116692-f1de-4de6-b656-fde83715b091",
   "metadata": {},
   "outputs": [
    {
     "name": "stdout",
     "output_type": "stream",
     "text": [
      "Transform(Location(x=-53.308029, y=20.725939, z=-0.003467), Rotation(pitch=0.001311, yaw=-28.920589, roll=0.202256))\n"
     ]
    }
   ],
   "source": [
    "# Get actual position from the car moving\n",
    "vehicle_pos = vehicle.get_transform()\n",
    "print(vehicle_pos)"
   ]
  },
  {
   "cell_type": "code",
   "execution_count": 8,
   "id": "732095af-34a8-4cda-ba36-bcd57a406851",
   "metadata": {},
   "outputs": [],
   "source": [
    "town_map = world.get_map()"
   ]
  },
  {
   "cell_type": "code",
   "execution_count": 9,
   "id": "0a3f1f7e-5c4a-4faa-8559-0250b1267174",
   "metadata": {},
   "outputs": [
    {
     "data": {
      "text/plain": [
       "carla.libcarla.Map"
      ]
     },
     "execution_count": 9,
     "metadata": {},
     "output_type": "execute_result"
    }
   ],
   "source": [
    "type(town_map)"
   ]
  },
  {
   "cell_type": "code",
   "execution_count": 10,
   "id": "60d7fb4c-4491-40fe-a7a6-bfefa5e15f12",
   "metadata": {},
   "outputs": [
    {
     "name": "stdout",
     "output_type": "stream",
     "text": [
      "Map(name=Carla/Maps/Town10HD_Opt)\n"
     ]
    }
   ],
   "source": [
    "print(town_map)"
   ]
  },
  {
   "cell_type": "code",
   "execution_count": 11,
   "id": "93811855-41e6-433c-a4de-af84d7df6291",
   "metadata": {},
   "outputs": [],
   "source": [
    "roads = town_map.get_topology()"
   ]
  },
  {
   "cell_type": "code",
   "execution_count": 12,
   "id": "9a4a2a36-3e0d-48dd-ac97-6fee5cf1dd90",
   "metadata": {},
   "outputs": [
    {
     "name": "stdout",
     "output_type": "stream",
     "text": [
      "[(<carla.libcarla.Waypoint object at 0x000001BF3D8FA810>, <carla.libcarla.Waypoint object at 0x000001BF3D8FAAB0>), (<carla.libcarla.Waypoint object at 0x000001BF3D8FA630>, <carla.libcarla.Waypoint object at 0x000001BF3D8FA450>), (<carla.libcarla.Waypoint object at 0x000001BF3D736630>, <carla.libcarla.Waypoint object at 0x000001BF3D7367B0>), (<carla.libcarla.Waypoint object at 0x000001BF3D7369F0>, <carla.libcarla.Waypoint object at 0x000001BF3D7364B0>), (<carla.libcarla.Waypoint object at 0x000001BF3D7362D0>, <carla.libcarla.Waypoint object at 0x000001BF3D8880F0>), (<carla.libcarla.Waypoint object at 0x000001BF3D888690>, <carla.libcarla.Waypoint object at 0x000001BF3D888270>), (<carla.libcarla.Waypoint object at 0x000001BF3D8887B0>, <carla.libcarla.Waypoint object at 0x000001BF3D9200F0>), (<carla.libcarla.Waypoint object at 0x000001BF3D920090>, <carla.libcarla.Waypoint object at 0x000001BF3D920210>), (<carla.libcarla.Waypoint object at 0x000001BF3D9202D0>, <carla.libcarla.Waypoint object at 0x000001BF3D920150>), (<carla.libcarla.Waypoint object at 0x000001BF3D9201B0>, <carla.libcarla.Waypoint object at 0x000001BF3D920270>), (<carla.libcarla.Waypoint object at 0x000001BF3D920330>, <carla.libcarla.Waypoint object at 0x000001BF3D920390>), (<carla.libcarla.Waypoint object at 0x000001BF3D9203F0>, <carla.libcarla.Waypoint object at 0x000001BF3D920450>), (<carla.libcarla.Waypoint object at 0x000001BF3D9204B0>, <carla.libcarla.Waypoint object at 0x000001BF3D920510>), (<carla.libcarla.Waypoint object at 0x000001BF3D920570>, <carla.libcarla.Waypoint object at 0x000001BF3D9205D0>), (<carla.libcarla.Waypoint object at 0x000001BF3D920630>, <carla.libcarla.Waypoint object at 0x000001BF3D920690>), (<carla.libcarla.Waypoint object at 0x000001BF3D9206F0>, <carla.libcarla.Waypoint object at 0x000001BF3D920750>), (<carla.libcarla.Waypoint object at 0x000001BF3D9207B0>, <carla.libcarla.Waypoint object at 0x000001BF3D920810>), (<carla.libcarla.Waypoint object at 0x000001BF3D920870>, <carla.libcarla.Waypoint object at 0x000001BF3D9208D0>), (<carla.libcarla.Waypoint object at 0x000001BF3D920930>, <carla.libcarla.Waypoint object at 0x000001BF3D920990>), (<carla.libcarla.Waypoint object at 0x000001BF3D9209F0>, <carla.libcarla.Waypoint object at 0x000001BF3D920A50>), (<carla.libcarla.Waypoint object at 0x000001BF3D920AB0>, <carla.libcarla.Waypoint object at 0x000001BF3D920B10>), (<carla.libcarla.Waypoint object at 0x000001BF3D920B70>, <carla.libcarla.Waypoint object at 0x000001BF3D920BD0>), (<carla.libcarla.Waypoint object at 0x000001BF3D920C30>, <carla.libcarla.Waypoint object at 0x000001BF3D920C90>), (<carla.libcarla.Waypoint object at 0x000001BF3D920CF0>, <carla.libcarla.Waypoint object at 0x000001BF3D920D50>), (<carla.libcarla.Waypoint object at 0x000001BF3D920DB0>, <carla.libcarla.Waypoint object at 0x000001BF3D920E10>), (<carla.libcarla.Waypoint object at 0x000001BF3D920E70>, <carla.libcarla.Waypoint object at 0x000001BF3D920ED0>), (<carla.libcarla.Waypoint object at 0x000001BF3D920F30>, <carla.libcarla.Waypoint object at 0x000001BF3D920F90>), (<carla.libcarla.Waypoint object at 0x000001BF3D925030>, <carla.libcarla.Waypoint object at 0x000001BF3D925090>), (<carla.libcarla.Waypoint object at 0x000001BF3D9250F0>, <carla.libcarla.Waypoint object at 0x000001BF3D925150>), (<carla.libcarla.Waypoint object at 0x000001BF3D9251B0>, <carla.libcarla.Waypoint object at 0x000001BF3D925210>), (<carla.libcarla.Waypoint object at 0x000001BF3D925270>, <carla.libcarla.Waypoint object at 0x000001BF3D9252D0>), (<carla.libcarla.Waypoint object at 0x000001BF3D925330>, <carla.libcarla.Waypoint object at 0x000001BF3D925390>), (<carla.libcarla.Waypoint object at 0x000001BF3D9253F0>, <carla.libcarla.Waypoint object at 0x000001BF3D925450>), (<carla.libcarla.Waypoint object at 0x000001BF3D9254B0>, <carla.libcarla.Waypoint object at 0x000001BF3D925510>), (<carla.libcarla.Waypoint object at 0x000001BF3D925570>, <carla.libcarla.Waypoint object at 0x000001BF3D9255D0>), (<carla.libcarla.Waypoint object at 0x000001BF3D925630>, <carla.libcarla.Waypoint object at 0x000001BF3D925690>), (<carla.libcarla.Waypoint object at 0x000001BF3D9256F0>, <carla.libcarla.Waypoint object at 0x000001BF3D925750>), (<carla.libcarla.Waypoint object at 0x000001BF3D9257B0>, <carla.libcarla.Waypoint object at 0x000001BF3D925810>), (<carla.libcarla.Waypoint object at 0x000001BF3D925870>, <carla.libcarla.Waypoint object at 0x000001BF3D9258D0>), (<carla.libcarla.Waypoint object at 0x000001BF3D925930>, <carla.libcarla.Waypoint object at 0x000001BF3D925990>), (<carla.libcarla.Waypoint object at 0x000001BF3D9259F0>, <carla.libcarla.Waypoint object at 0x000001BF3D925A50>), (<carla.libcarla.Waypoint object at 0x000001BF3D925AB0>, <carla.libcarla.Waypoint object at 0x000001BF3D925B10>), (<carla.libcarla.Waypoint object at 0x000001BF3D925B70>, <carla.libcarla.Waypoint object at 0x000001BF3D925BD0>), (<carla.libcarla.Waypoint object at 0x000001BF3D925C30>, <carla.libcarla.Waypoint object at 0x000001BF3D925C90>), (<carla.libcarla.Waypoint object at 0x000001BF3D925CF0>, <carla.libcarla.Waypoint object at 0x000001BF3D925D50>), (<carla.libcarla.Waypoint object at 0x000001BF3D925DB0>, <carla.libcarla.Waypoint object at 0x000001BF3D925E10>), (<carla.libcarla.Waypoint object at 0x000001BF3D925E70>, <carla.libcarla.Waypoint object at 0x000001BF3D925ED0>), (<carla.libcarla.Waypoint object at 0x000001BF3D925F30>, <carla.libcarla.Waypoint object at 0x000001BF3D925F90>), (<carla.libcarla.Waypoint object at 0x000001BF3D924030>, <carla.libcarla.Waypoint object at 0x000001BF3D924090>), (<carla.libcarla.Waypoint object at 0x000001BF3D9240F0>, <carla.libcarla.Waypoint object at 0x000001BF3D924150>), (<carla.libcarla.Waypoint object at 0x000001BF3D9241B0>, <carla.libcarla.Waypoint object at 0x000001BF3D924210>), (<carla.libcarla.Waypoint object at 0x000001BF3D924270>, <carla.libcarla.Waypoint object at 0x000001BF3D9242D0>), (<carla.libcarla.Waypoint object at 0x000001BF3D924330>, <carla.libcarla.Waypoint object at 0x000001BF3D924390>), (<carla.libcarla.Waypoint object at 0x000001BF3D9243F0>, <carla.libcarla.Waypoint object at 0x000001BF3D924450>), (<carla.libcarla.Waypoint object at 0x000001BF3D9244B0>, <carla.libcarla.Waypoint object at 0x000001BF3D924510>), (<carla.libcarla.Waypoint object at 0x000001BF3D924570>, <carla.libcarla.Waypoint object at 0x000001BF3D9245D0>), (<carla.libcarla.Waypoint object at 0x000001BF3D924630>, <carla.libcarla.Waypoint object at 0x000001BF3D924690>), (<carla.libcarla.Waypoint object at 0x000001BF3D9246F0>, <carla.libcarla.Waypoint object at 0x000001BF3D924750>), (<carla.libcarla.Waypoint object at 0x000001BF3D9247B0>, <carla.libcarla.Waypoint object at 0x000001BF3D924810>), (<carla.libcarla.Waypoint object at 0x000001BF3D924870>, <carla.libcarla.Waypoint object at 0x000001BF3D9248D0>), (<carla.libcarla.Waypoint object at 0x000001BF3D924930>, <carla.libcarla.Waypoint object at 0x000001BF3D924990>), (<carla.libcarla.Waypoint object at 0x000001BF3D9249F0>, <carla.libcarla.Waypoint object at 0x000001BF3D924A50>), (<carla.libcarla.Waypoint object at 0x000001BF3D924AB0>, <carla.libcarla.Waypoint object at 0x000001BF3D924B10>), (<carla.libcarla.Waypoint object at 0x000001BF3D924B70>, <carla.libcarla.Waypoint object at 0x000001BF3D924BD0>), (<carla.libcarla.Waypoint object at 0x000001BF3D924C30>, <carla.libcarla.Waypoint object at 0x000001BF3D924C90>), (<carla.libcarla.Waypoint object at 0x000001BF3D924CF0>, <carla.libcarla.Waypoint object at 0x000001BF3D924D50>), (<carla.libcarla.Waypoint object at 0x000001BF3D924DB0>, <carla.libcarla.Waypoint object at 0x000001BF3D924E10>), (<carla.libcarla.Waypoint object at 0x000001BF3D924E70>, <carla.libcarla.Waypoint object at 0x000001BF3D924ED0>), (<carla.libcarla.Waypoint object at 0x000001BF3D924F30>, <carla.libcarla.Waypoint object at 0x000001BF3D924F90>), (<carla.libcarla.Waypoint object at 0x000001BF3D926030>, <carla.libcarla.Waypoint object at 0x000001BF3D926090>), (<carla.libcarla.Waypoint object at 0x000001BF3D9260F0>, <carla.libcarla.Waypoint object at 0x000001BF3D926150>), (<carla.libcarla.Waypoint object at 0x000001BF3D9261B0>, <carla.libcarla.Waypoint object at 0x000001BF3D926210>), (<carla.libcarla.Waypoint object at 0x000001BF3D926270>, <carla.libcarla.Waypoint object at 0x000001BF3D9262D0>), (<carla.libcarla.Waypoint object at 0x000001BF3D926330>, <carla.libcarla.Waypoint object at 0x000001BF3D926390>), (<carla.libcarla.Waypoint object at 0x000001BF3D9263F0>, <carla.libcarla.Waypoint object at 0x000001BF3D926450>), (<carla.libcarla.Waypoint object at 0x000001BF3D9264B0>, <carla.libcarla.Waypoint object at 0x000001BF3D926510>), (<carla.libcarla.Waypoint object at 0x000001BF3D926570>, <carla.libcarla.Waypoint object at 0x000001BF3D9265D0>), (<carla.libcarla.Waypoint object at 0x000001BF3D926630>, <carla.libcarla.Waypoint object at 0x000001BF3D926690>), (<carla.libcarla.Waypoint object at 0x000001BF3D9266F0>, <carla.libcarla.Waypoint object at 0x000001BF3D926750>), (<carla.libcarla.Waypoint object at 0x000001BF3D9267B0>, <carla.libcarla.Waypoint object at 0x000001BF3D926810>), (<carla.libcarla.Waypoint object at 0x000001BF3D926870>, <carla.libcarla.Waypoint object at 0x000001BF3D9268D0>), (<carla.libcarla.Waypoint object at 0x000001BF3D926930>, <carla.libcarla.Waypoint object at 0x000001BF3D926990>), (<carla.libcarla.Waypoint object at 0x000001BF3D9269F0>, <carla.libcarla.Waypoint object at 0x000001BF3D926A50>), (<carla.libcarla.Waypoint object at 0x000001BF3D926AB0>, <carla.libcarla.Waypoint object at 0x000001BF3D926B10>), (<carla.libcarla.Waypoint object at 0x000001BF3D926B70>, <carla.libcarla.Waypoint object at 0x000001BF3D926BD0>), (<carla.libcarla.Waypoint object at 0x000001BF3D926C30>, <carla.libcarla.Waypoint object at 0x000001BF3D926C90>), (<carla.libcarla.Waypoint object at 0x000001BF3D926CF0>, <carla.libcarla.Waypoint object at 0x000001BF3D926D50>), (<carla.libcarla.Waypoint object at 0x000001BF3D926DB0>, <carla.libcarla.Waypoint object at 0x000001BF3D926E10>), (<carla.libcarla.Waypoint object at 0x000001BF3D926E70>, <carla.libcarla.Waypoint object at 0x000001BF3D926ED0>), (<carla.libcarla.Waypoint object at 0x000001BF3D926F30>, <carla.libcarla.Waypoint object at 0x000001BF3D926F90>), (<carla.libcarla.Waypoint object at 0x000001BF3D927030>, <carla.libcarla.Waypoint object at 0x000001BF3D927090>), (<carla.libcarla.Waypoint object at 0x000001BF3D9270F0>, <carla.libcarla.Waypoint object at 0x000001BF3D927150>), (<carla.libcarla.Waypoint object at 0x000001BF3D9271B0>, <carla.libcarla.Waypoint object at 0x000001BF3D927210>), (<carla.libcarla.Waypoint object at 0x000001BF3D927270>, <carla.libcarla.Waypoint object at 0x000001BF3D9272D0>), (<carla.libcarla.Waypoint object at 0x000001BF3D927330>, <carla.libcarla.Waypoint object at 0x000001BF3D927390>), (<carla.libcarla.Waypoint object at 0x000001BF3D9273F0>, <carla.libcarla.Waypoint object at 0x000001BF3D927450>), (<carla.libcarla.Waypoint object at 0x000001BF3D9274B0>, <carla.libcarla.Waypoint object at 0x000001BF3D927510>), (<carla.libcarla.Waypoint object at 0x000001BF3D927570>, <carla.libcarla.Waypoint object at 0x000001BF3D9275D0>), (<carla.libcarla.Waypoint object at 0x000001BF3D927630>, <carla.libcarla.Waypoint object at 0x000001BF3D927690>), (<carla.libcarla.Waypoint object at 0x000001BF3D9276F0>, <carla.libcarla.Waypoint object at 0x000001BF3D927750>), (<carla.libcarla.Waypoint object at 0x000001BF3D9277B0>, <carla.libcarla.Waypoint object at 0x000001BF3D927810>), (<carla.libcarla.Waypoint object at 0x000001BF3D927870>, <carla.libcarla.Waypoint object at 0x000001BF3D9278D0>), (<carla.libcarla.Waypoint object at 0x000001BF3D927930>, <carla.libcarla.Waypoint object at 0x000001BF3D927990>), (<carla.libcarla.Waypoint object at 0x000001BF3D9279F0>, <carla.libcarla.Waypoint object at 0x000001BF3D927A50>), (<carla.libcarla.Waypoint object at 0x000001BF3D927AB0>, <carla.libcarla.Waypoint object at 0x000001BF3D927B10>), (<carla.libcarla.Waypoint object at 0x000001BF3D927B70>, <carla.libcarla.Waypoint object at 0x000001BF3D927BD0>), (<carla.libcarla.Waypoint object at 0x000001BF3D927C30>, <carla.libcarla.Waypoint object at 0x000001BF3D927C90>), (<carla.libcarla.Waypoint object at 0x000001BF3D927CF0>, <carla.libcarla.Waypoint object at 0x000001BF3D927D50>), (<carla.libcarla.Waypoint object at 0x000001BF3D927DB0>, <carla.libcarla.Waypoint object at 0x000001BF3D927E10>), (<carla.libcarla.Waypoint object at 0x000001BF3D927E70>, <carla.libcarla.Waypoint object at 0x000001BF3D927ED0>), (<carla.libcarla.Waypoint object at 0x000001BF3D927F30>, <carla.libcarla.Waypoint object at 0x000001BF3D927F90>), (<carla.libcarla.Waypoint object at 0x000001BF3D928030>, <carla.libcarla.Waypoint object at 0x000001BF3D928090>), (<carla.libcarla.Waypoint object at 0x000001BF3D9280F0>, <carla.libcarla.Waypoint object at 0x000001BF3D928150>), (<carla.libcarla.Waypoint object at 0x000001BF3D9281B0>, <carla.libcarla.Waypoint object at 0x000001BF3D928210>), (<carla.libcarla.Waypoint object at 0x000001BF3D928270>, <carla.libcarla.Waypoint object at 0x000001BF3D9282D0>), (<carla.libcarla.Waypoint object at 0x000001BF3D928330>, <carla.libcarla.Waypoint object at 0x000001BF3D928390>), (<carla.libcarla.Waypoint object at 0x000001BF3D9283F0>, <carla.libcarla.Waypoint object at 0x000001BF3D928450>), (<carla.libcarla.Waypoint object at 0x000001BF3D9284B0>, <carla.libcarla.Waypoint object at 0x000001BF3D928510>), (<carla.libcarla.Waypoint object at 0x000001BF3D928570>, <carla.libcarla.Waypoint object at 0x000001BF3D9285D0>), (<carla.libcarla.Waypoint object at 0x000001BF3D928630>, <carla.libcarla.Waypoint object at 0x000001BF3D928690>), (<carla.libcarla.Waypoint object at 0x000001BF3D9286F0>, <carla.libcarla.Waypoint object at 0x000001BF3D928750>), (<carla.libcarla.Waypoint object at 0x000001BF3D9287B0>, <carla.libcarla.Waypoint object at 0x000001BF3D928810>), (<carla.libcarla.Waypoint object at 0x000001BF3D928870>, <carla.libcarla.Waypoint object at 0x000001BF3D9288D0>), (<carla.libcarla.Waypoint object at 0x000001BF3D928930>, <carla.libcarla.Waypoint object at 0x000001BF3D928990>), (<carla.libcarla.Waypoint object at 0x000001BF3D9289F0>, <carla.libcarla.Waypoint object at 0x000001BF3D928A50>), (<carla.libcarla.Waypoint object at 0x000001BF3D928AB0>, <carla.libcarla.Waypoint object at 0x000001BF3D928B10>), (<carla.libcarla.Waypoint object at 0x000001BF3D928B70>, <carla.libcarla.Waypoint object at 0x000001BF3D928BD0>), (<carla.libcarla.Waypoint object at 0x000001BF3D928C30>, <carla.libcarla.Waypoint object at 0x000001BF3D928C90>), (<carla.libcarla.Waypoint object at 0x000001BF3D928CF0>, <carla.libcarla.Waypoint object at 0x000001BF3D928D50>), (<carla.libcarla.Waypoint object at 0x000001BF3D928DB0>, <carla.libcarla.Waypoint object at 0x000001BF3D928E10>), (<carla.libcarla.Waypoint object at 0x000001BF3D928E70>, <carla.libcarla.Waypoint object at 0x000001BF3D928ED0>), (<carla.libcarla.Waypoint object at 0x000001BF3D928F30>, <carla.libcarla.Waypoint object at 0x000001BF3D928F90>), (<carla.libcarla.Waypoint object at 0x000001BF3D929030>, <carla.libcarla.Waypoint object at 0x000001BF3D929090>), (<carla.libcarla.Waypoint object at 0x000001BF3D9290F0>, <carla.libcarla.Waypoint object at 0x000001BF3D929150>), (<carla.libcarla.Waypoint object at 0x000001BF3D9291B0>, <carla.libcarla.Waypoint object at 0x000001BF3D929210>), (<carla.libcarla.Waypoint object at 0x000001BF3D929270>, <carla.libcarla.Waypoint object at 0x000001BF3D9292D0>), (<carla.libcarla.Waypoint object at 0x000001BF3D929330>, <carla.libcarla.Waypoint object at 0x000001BF3D929390>), (<carla.libcarla.Waypoint object at 0x000001BF3D9293F0>, <carla.libcarla.Waypoint object at 0x000001BF3D929450>), (<carla.libcarla.Waypoint object at 0x000001BF3D9294B0>, <carla.libcarla.Waypoint object at 0x000001BF3D929510>), (<carla.libcarla.Waypoint object at 0x000001BF3D929570>, <carla.libcarla.Waypoint object at 0x000001BF3D9295D0>), (<carla.libcarla.Waypoint object at 0x000001BF3D929630>, <carla.libcarla.Waypoint object at 0x000001BF3D929690>), (<carla.libcarla.Waypoint object at 0x000001BF3D9296F0>, <carla.libcarla.Waypoint object at 0x000001BF3D929750>), (<carla.libcarla.Waypoint object at 0x000001BF3D9297B0>, <carla.libcarla.Waypoint object at 0x000001BF3D929810>), (<carla.libcarla.Waypoint object at 0x000001BF3D929870>, <carla.libcarla.Waypoint object at 0x000001BF3D9298D0>), (<carla.libcarla.Waypoint object at 0x000001BF3D929930>, <carla.libcarla.Waypoint object at 0x000001BF3D929990>), (<carla.libcarla.Waypoint object at 0x000001BF3D9299F0>, <carla.libcarla.Waypoint object at 0x000001BF3D929A50>), (<carla.libcarla.Waypoint object at 0x000001BF3D929AB0>, <carla.libcarla.Waypoint object at 0x000001BF3D929B10>), (<carla.libcarla.Waypoint object at 0x000001BF3D929B70>, <carla.libcarla.Waypoint object at 0x000001BF3D929BD0>), (<carla.libcarla.Waypoint object at 0x000001BF3D929C30>, <carla.libcarla.Waypoint object at 0x000001BF3D929C90>), (<carla.libcarla.Waypoint object at 0x000001BF3D929CF0>, <carla.libcarla.Waypoint object at 0x000001BF3D929D50>), (<carla.libcarla.Waypoint object at 0x000001BF3D929DB0>, <carla.libcarla.Waypoint object at 0x000001BF3D929E10>), (<carla.libcarla.Waypoint object at 0x000001BF3D929E70>, <carla.libcarla.Waypoint object at 0x000001BF3D929ED0>), (<carla.libcarla.Waypoint object at 0x000001BF3D929F30>, <carla.libcarla.Waypoint object at 0x000001BF3D929F90>), (<carla.libcarla.Waypoint object at 0x000001BF3D92A030>, <carla.libcarla.Waypoint object at 0x000001BF3D92A090>), (<carla.libcarla.Waypoint object at 0x000001BF3D92A0F0>, <carla.libcarla.Waypoint object at 0x000001BF3D92A150>), (<carla.libcarla.Waypoint object at 0x000001BF3D92A1B0>, <carla.libcarla.Waypoint object at 0x000001BF3D92A210>), (<carla.libcarla.Waypoint object at 0x000001BF3D92A270>, <carla.libcarla.Waypoint object at 0x000001BF3D92A2D0>), (<carla.libcarla.Waypoint object at 0x000001BF3D92A330>, <carla.libcarla.Waypoint object at 0x000001BF3D92A390>), (<carla.libcarla.Waypoint object at 0x000001BF3D92A3F0>, <carla.libcarla.Waypoint object at 0x000001BF3D92A450>), (<carla.libcarla.Waypoint object at 0x000001BF3D92A4B0>, <carla.libcarla.Waypoint object at 0x000001BF3D92A510>), (<carla.libcarla.Waypoint object at 0x000001BF3D92A570>, <carla.libcarla.Waypoint object at 0x000001BF3D92A5D0>), (<carla.libcarla.Waypoint object at 0x000001BF3D92A630>, <carla.libcarla.Waypoint object at 0x000001BF3D92A690>), (<carla.libcarla.Waypoint object at 0x000001BF3D92A6F0>, <carla.libcarla.Waypoint object at 0x000001BF3D92A750>), (<carla.libcarla.Waypoint object at 0x000001BF3D92A7B0>, <carla.libcarla.Waypoint object at 0x000001BF3D92A810>), (<carla.libcarla.Waypoint object at 0x000001BF3D92A870>, <carla.libcarla.Waypoint object at 0x000001BF3D92A8D0>), (<carla.libcarla.Waypoint object at 0x000001BF3D92A930>, <carla.libcarla.Waypoint object at 0x000001BF3D92A990>), (<carla.libcarla.Waypoint object at 0x000001BF3D92A9F0>, <carla.libcarla.Waypoint object at 0x000001BF3D92AA50>), (<carla.libcarla.Waypoint object at 0x000001BF3D92AAB0>, <carla.libcarla.Waypoint object at 0x000001BF3D92AB10>), (<carla.libcarla.Waypoint object at 0x000001BF3D92AB70>, <carla.libcarla.Waypoint object at 0x000001BF3D92ABD0>), (<carla.libcarla.Waypoint object at 0x000001BF3D92AC30>, <carla.libcarla.Waypoint object at 0x000001BF3D92AC90>), (<carla.libcarla.Waypoint object at 0x000001BF3D92ACF0>, <carla.libcarla.Waypoint object at 0x000001BF3D92AD50>), (<carla.libcarla.Waypoint object at 0x000001BF3D92ADB0>, <carla.libcarla.Waypoint object at 0x000001BF3D92AE10>), (<carla.libcarla.Waypoint object at 0x000001BF3D92AE70>, <carla.libcarla.Waypoint object at 0x000001BF3D92AED0>), (<carla.libcarla.Waypoint object at 0x000001BF3D92AF30>, <carla.libcarla.Waypoint object at 0x000001BF3D92AF90>), (<carla.libcarla.Waypoint object at 0x000001BF3D92B030>, <carla.libcarla.Waypoint object at 0x000001BF3D92B090>), (<carla.libcarla.Waypoint object at 0x000001BF3D92B0F0>, <carla.libcarla.Waypoint object at 0x000001BF3D92B150>), (<carla.libcarla.Waypoint object at 0x000001BF3D92B1B0>, <carla.libcarla.Waypoint object at 0x000001BF3D92B210>), (<carla.libcarla.Waypoint object at 0x000001BF3D92B270>, <carla.libcarla.Waypoint object at 0x000001BF3D92B2D0>), (<carla.libcarla.Waypoint object at 0x000001BF3D92B330>, <carla.libcarla.Waypoint object at 0x000001BF3D92B390>), (<carla.libcarla.Waypoint object at 0x000001BF3D92B3F0>, <carla.libcarla.Waypoint object at 0x000001BF3D92B450>), (<carla.libcarla.Waypoint object at 0x000001BF3D92B4B0>, <carla.libcarla.Waypoint object at 0x000001BF3D92B510>), (<carla.libcarla.Waypoint object at 0x000001BF3D92B570>, <carla.libcarla.Waypoint object at 0x000001BF3D92B5D0>), (<carla.libcarla.Waypoint object at 0x000001BF3D92B630>, <carla.libcarla.Waypoint object at 0x000001BF3D92B690>), (<carla.libcarla.Waypoint object at 0x000001BF3D92B6F0>, <carla.libcarla.Waypoint object at 0x000001BF3D92B750>), (<carla.libcarla.Waypoint object at 0x000001BF3D92B7B0>, <carla.libcarla.Waypoint object at 0x000001BF3D92B810>), (<carla.libcarla.Waypoint object at 0x000001BF3D92B870>, <carla.libcarla.Waypoint object at 0x000001BF3D92B8D0>), (<carla.libcarla.Waypoint object at 0x000001BF3D92B930>, <carla.libcarla.Waypoint object at 0x000001BF3D92B990>), (<carla.libcarla.Waypoint object at 0x000001BF3D92B9F0>, <carla.libcarla.Waypoint object at 0x000001BF3D92BA50>), (<carla.libcarla.Waypoint object at 0x000001BF3D92BAB0>, <carla.libcarla.Waypoint object at 0x000001BF3D92BB10>), (<carla.libcarla.Waypoint object at 0x000001BF3D92BB70>, <carla.libcarla.Waypoint object at 0x000001BF3D92BBD0>), (<carla.libcarla.Waypoint object at 0x000001BF3D92BC30>, <carla.libcarla.Waypoint object at 0x000001BF3D92BC90>), (<carla.libcarla.Waypoint object at 0x000001BF3D92BCF0>, <carla.libcarla.Waypoint object at 0x000001BF3D92BD50>), (<carla.libcarla.Waypoint object at 0x000001BF3D92BDB0>, <carla.libcarla.Waypoint object at 0x000001BF3D92BE10>), (<carla.libcarla.Waypoint object at 0x000001BF3D92BE70>, <carla.libcarla.Waypoint object at 0x000001BF3D92BED0>), (<carla.libcarla.Waypoint object at 0x000001BF3D92BF30>, <carla.libcarla.Waypoint object at 0x000001BF3D92BF90>), (<carla.libcarla.Waypoint object at 0x000001BF3D92C030>, <carla.libcarla.Waypoint object at 0x000001BF3D92C090>), (<carla.libcarla.Waypoint object at 0x000001BF3D92C0F0>, <carla.libcarla.Waypoint object at 0x000001BF3D92C150>), (<carla.libcarla.Waypoint object at 0x000001BF3D92C1B0>, <carla.libcarla.Waypoint object at 0x000001BF3D92C210>), (<carla.libcarla.Waypoint object at 0x000001BF3D92C270>, <carla.libcarla.Waypoint object at 0x000001BF3D92C2D0>), (<carla.libcarla.Waypoint object at 0x000001BF3D92C330>, <carla.libcarla.Waypoint object at 0x000001BF3D92C390>)]\n"
     ]
    }
   ],
   "source": [
    "print(roads)"
   ]
  },
  {
   "cell_type": "code",
   "execution_count": 4,
   "id": "7b9fa625-c3b9-47b3-8251-c11b96cf30e4",
   "metadata": {},
   "outputs": [],
   "source": [
    "import sys\n",
    "sys.path.append('C:/Users/jgsnt/Desktop/Repo/LearnCarla/CARLA_0.9.15/PythonAPI//carla')\n",
    "from agents.navigation.global_route_planner import GlobalRoutePlanner"
   ]
  },
  {
   "cell_type": "code",
   "execution_count": 14,
   "id": "862925bb-a579-406b-8deb-3bb9d603d289",
   "metadata": {},
   "outputs": [],
   "source": [
    "sampling_resolution = 2\n",
    "grp = GlobalRoutePlanner(town_map, sampling_resolution)\n",
    "\n",
    "point_a = carla.Location(x=-64.644844, y=24.471010, z=0.600000)\n",
    "point_b = carla.Location(x=-114.478943, y=65.782814, z=-0.003669)\n",
    "\n",
    "route = grp.trace_route(point_a, point_b)\n",
    "\n",
    "for waypoint in route:\n",
    "    world.debug.draw_string(waypoint[0].transform.location, '^', draw_shadow=False,\n",
    "        color=carla.Color(r=0, g=0, b=255), life_time=600.0,\n",
    "        persistent_lines=True)\n",
    "    \n",
    "\n"
   ]
  },
  {
   "cell_type": "code",
   "execution_count": 12,
   "id": "a181d99a-e5dd-4ed7-a67c-4cc7b6963cf2",
   "metadata": {},
   "outputs": [],
   "source": [
    "# Utility script of destruction\n",
    "\n",
    "for actor in world.get_actors().filter(\"*vehicle*\"):\n",
    "    actor.destroy()\n",
    "for sensor in world.get_actors().filter('*sensor*'):\n",
    "    sensor.destroy()"
   ]
  },
  {
   "cell_type": "code",
   "execution_count": 13,
   "id": "e46dcbe5",
   "metadata": {},
   "outputs": [],
   "source": [
    "# now we define 2 cars\n",
    "truck_bp = world.get_blueprint_library().filter('*firetruck*')\n",
    "mini_bp = world.get_blueprint_library().filter('*cooper_s*')\n",
    "\n",
    "#start first car in alredy defined start point\n",
    "truck = world.try_spawn_actor(truck_bp[0], start_point)"
   ]
  },
  {
   "cell_type": "code",
   "execution_count": 14,
   "id": "df299983",
   "metadata": {},
   "outputs": [],
   "source": [
    "# tweak spectator position to watch the show\n",
    "\n",
    "spectator = world.get_spectator()\n",
    "spawn_points = world.get_map().get_spawn_points()\n",
    "start_point = spawn_points[0]\n",
    "\n",
    "spectator_pos = carla.Transform(start_point.location + carla.Location(x=20,y=10,z=4),\n",
    "                                carla.Rotation(yaw = start_point.rotation.yaw -155))\n",
    "\n",
    "spectator.set_transform(spectator_pos)"
   ]
  },
  {
   "cell_type": "code",
   "execution_count": 15,
   "id": "60e92e98",
   "metadata": {},
   "outputs": [],
   "source": [
    "# drop the Mini the sky - watch what happens after\n",
    "\n",
    "#spawn it first somewhere else\n",
    "mini = world.try_spawn_actor(mini_bp[0], spawn_points[10])\n",
    "\n",
    "mini_pos = carla.Transform(start_point.location + carla.Location(x=-4,z=10),\n",
    "                            carla.Rotation(yaw = start_point.rotation.yaw - 0))\n",
    "mini.set_transform(mini_pos)"
   ]
  }
 ],
 "metadata": {
  "kernelspec": {
   "display_name": "Python 3 (ipykernel)",
   "language": "python",
   "name": "python3"
  },
  "language_info": {
   "codemirror_mode": {
    "name": "ipython",
    "version": 3
   },
   "file_extension": ".py",
   "mimetype": "text/x-python",
   "name": "python",
   "nbconvert_exporter": "python",
   "pygments_lexer": "ipython3",
   "version": "3.8.0"
  }
 },
 "nbformat": 4,
 "nbformat_minor": 5
}
